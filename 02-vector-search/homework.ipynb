{
 "cells": [
  {
   "metadata": {},
   "cell_type": "markdown",
   "source": "# Homework: Vector Search",
   "id": "8141c2c381e3150d"
  },
  {
   "cell_type": "code",
   "id": "initial_id",
   "metadata": {
    "collapsed": true,
    "ExecuteTime": {
     "end_time": "2025-06-23T16:37:07.188545Z",
     "start_time": "2025-06-23T16:37:07.183552Z"
    }
   },
   "source": [
    "import numpy as np\n",
    "from fastembed import TextEmbedding\n",
    "\n",
    "EMBEDDING_DIMENSIONALITY = 512\n",
    "model_handle = \"jinaai/jina-embeddings-v2-small-en\""
   ],
   "outputs": [],
   "execution_count": 4
  },
  {
   "metadata": {},
   "cell_type": "markdown",
   "source": [
    "## Q1. Embedding the query\n",
    "\n",
    "What's the minimal value in this array?"
   ],
   "id": "4ab12aa44ae119ad"
  },
  {
   "metadata": {
    "ExecuteTime": {
     "end_time": "2025-06-23T16:42:47.495144Z",
     "start_time": "2025-06-23T16:42:46.369879Z"
    }
   },
   "cell_type": "code",
   "source": [
    "query = 'I just discovered the course. Can I join now?'\n",
    "\n",
    "model = TextEmbedding(model_name=\"jinaai/jina-embeddings-v2-small-en\")\n",
    "query_embeddings = list(model.embed(query))\n",
    "q_vector = np.array(query_embeddings[0])\n",
    "min_val = np.min(q_vector)\n",
    "min_val"
   ],
   "id": "1e51fecbb5bb4817",
   "outputs": [
    {
     "data": {
      "text/plain": [
       "np.float64(-0.11726373551188797)"
      ]
     },
     "execution_count": 13,
     "metadata": {},
     "output_type": "execute_result"
    }
   ],
   "execution_count": 13
  },
  {
   "metadata": {},
   "cell_type": "markdown",
   "source": [
    "## Q2. Cosine similarity with another vector\n",
    "\n",
    "What's the cosine similarity between the vector for the query and the vector for the document?"
   ],
   "id": "e0a269f79afd6722"
  },
  {
   "metadata": {
    "ExecuteTime": {
     "end_time": "2025-06-23T16:43:00.278667Z",
     "start_time": "2025-06-23T16:43:00.262973Z"
    }
   },
   "cell_type": "code",
   "source": [
    "doc = 'Can I still join the course after the start date?'\n",
    "\n",
    "doc_embeddings = list(model.embed(doc))\n",
    "doc_vector = np.array(doc_embeddings[0])\n",
    "\n",
    "cosine_similarity = q_vector.dot(doc_vector)\n",
    "\n",
    "print(f\"Cosine similarity between query and document: {cosine_similarity}\")"
   ],
   "id": "8b8e4bf361221852",
   "outputs": [
    {
     "name": "stdout",
     "output_type": "stream",
     "text": [
      "Cosine similarity between query and document: 0.9008528856818037\n"
     ]
    }
   ],
   "execution_count": 14
  },
  {
   "metadata": {},
   "cell_type": "markdown",
   "source": [
    "## Q3. Ranking by cosine\n",
    "\n",
    "What's the document index with the highest similarity? (Indexing starts from 0)"
   ],
   "id": "b724d7b9292500d3"
  },
  {
   "metadata": {
    "ExecuteTime": {
     "end_time": "2025-06-23T16:50:16.947634Z",
     "start_time": "2025-06-23T16:50:16.894936Z"
    }
   },
   "cell_type": "code",
   "source": [
    "# Define the documents\n",
    "documents = [{'text': \"Yes, even if you don't register, you're still eligible to submit the homeworks.\\nBe aware, however, that there will be deadlines for turning in the final projects. So don't leave everything for the last minute.\",\n",
    "  'section': 'General course-related questions',\n",
    "  'question': 'Course - Can I still join the course after the start date?',\n",
    "  'course': 'data-engineering-zoomcamp'},\n",
    " {'text': 'Yes, we will keep all the materials after the course finishes, so you can follow the course at your own pace after it finishes.\\nYou can also continue looking at the homeworks and continue preparing for the next cohort. I guess you can also start working on your final capstone project.',\n",
    "  'section': 'General course-related questions',\n",
    "  'question': 'Course - Can I follow the course after it finishes?',\n",
    "  'course': 'data-engineering-zoomcamp'},\n",
    " {'text': \"The purpose of this document is to capture frequently asked technical questions\\nThe exact day and hour of the course will be 15th Jan 2024 at 17h00. The course will start with the first  “Office Hours'' live.1\\nSubscribe to course public Google Calendar (it works from Desktop only).\\nRegister before the course starts using this link.\\nJoin the course Telegram channel with announcements.\\nDon’t forget to register in DataTalks.Club's Slack and join the channel.\",\n",
    "  'section': 'General course-related questions',\n",
    "  'question': 'Course - When will the course start?',\n",
    "  'course': 'data-engineering-zoomcamp'},\n",
    " {'text': 'You can start by installing and setting up all the dependencies and requirements:\\nGoogle cloud account\\nGoogle Cloud SDK\\nPython 3 (installed with Anaconda)\\nTerraform\\nGit\\nLook over the prerequisites and syllabus to see if you are comfortable with these subjects.',\n",
    "  'section': 'General course-related questions',\n",
    "  'question': 'Course - What can I do before the course starts?',\n",
    "  'course': 'data-engineering-zoomcamp'},\n",
    " {'text': 'Star the repo! Share it with friends if you find it useful ❣️\\nCreate a PR if you see you can improve the text or the structure of the repository.',\n",
    "  'section': 'General course-related questions',\n",
    "  'question': 'How can we contribute to the course?',\n",
    "  'course': 'data-engineering-zoomcamp'}]\n",
    "\n",
    "document_texts = [doc['text'] for doc in documents]\n",
    "document_text_embeddings = list(model.embed(document_texts))\n",
    "\n",
    "V = np.array(document_text_embeddings)\n",
    "similarities = V.dot(q_vector)\n",
    "\n",
    "# Find the index of the document with the highest similarity\n",
    "highest_similarity_index = np.argmax(similarities)\n",
    "\n",
    "print(f\"Similarities: {similarities}\")\n",
    "print(f\"Document index with the highest similarity: {highest_similarity_index}\")"
   ],
   "id": "286511429373bfd8",
   "outputs": [
    {
     "name": "stdout",
     "output_type": "stream",
     "text": [
      "Similarities: [0.76296845 0.81823784 0.80853973 0.71330785 0.73044995]\n",
      "Document index with the highest similarity: 1\n"
     ]
    }
   ],
   "execution_count": 18
  },
  {
   "metadata": {},
   "cell_type": "markdown",
   "source": [
    "## Q4. Ranking by cosine, version two\n",
    "\n",
    "What's the highest scoring document?"
   ],
   "id": "9e5f3f26d6a756dd"
  },
  {
   "metadata": {
    "ExecuteTime": {
     "end_time": "2025-06-23T16:50:29.140647Z",
     "start_time": "2025-06-23T16:50:29.045886Z"
    }
   },
   "cell_type": "code",
   "source": [
    "full_texts = [doc['question'] + ' ' + doc['text'] for doc in documents]\n",
    "full_text_embeddings = list(model.embed(full_texts))\n",
    "V_full_text = np.array(full_text_embeddings)"
   ],
   "id": "807fe9dc6795a594",
   "outputs": [],
   "execution_count": 19
  },
  {
   "metadata": {
    "ExecuteTime": {
     "end_time": "2025-06-23T16:50:36.072092Z",
     "start_time": "2025-06-23T16:50:36.068673Z"
    }
   },
   "cell_type": "code",
   "source": [
    "similarities_full_text = V_full_text.dot(q_vector)\n",
    "\n",
    "# Find the index of the document with the highest similarity\n",
    "highest_similarity_index_full_text = np.argmax(similarities_full_text)\n",
    "\n",
    "print(f\"Similarities (full_text): {similarities_full_text}\")\n",
    "print(f\"Document index with the highest similarity (full_text): {highest_similarity_index_full_text}\")\n"
   ],
   "id": "5b88e74416c1f991",
   "outputs": [
    {
     "name": "stdout",
     "output_type": "stream",
     "text": [
      "Similarities (full_text): [0.8514543  0.84365941 0.84082872 0.77551577 0.80860079]\n",
      "Document index with the highest similarity (full_text): 0\n"
     ]
    }
   ],
   "execution_count": 20
  },
  {
   "metadata": {},
   "cell_type": "markdown",
   "source": "By concatenating the question field with the text field, we provide the embedding model with more contextual information during the embedding process.",
   "id": "d47ead6840a75a49"
  },
  {
   "metadata": {
    "ExecuteTime": {
     "end_time": "2025-06-23T16:59:43.976662Z",
     "start_time": "2025-06-23T16:59:43.973730Z"
    }
   },
   "cell_type": "code",
   "source": [
    "from fastembed import TextEmbedding\n",
    "\n",
    "supported_models = TextEmbedding.list_supported_models()\n",
    "\n",
    "print(\"List of supported models in fastembed:\")\n",
    "\n",
    "min_model = None\n",
    "min_dimension = float('inf')\n",
    "\n",
    "for model_info in supported_models:\n",
    "    print(f\"- {model_info['model']}: {model_info['dim']}\")\n",
    "    if model_info['dim'] < min_dimension:\n",
    "            min_dimension = model_info['dim']\n",
    "            min_model = model_info['model']\n",
    "\n",
    "print(\"=\" * 7)\n",
    "print(f\"Minimum dimension: {min_dimension}\")\n",
    "print(f\"Minimum model: {min_model}\")\n"
   ],
   "id": "4eceac8c5b4e91c3",
   "outputs": [
    {
     "name": "stdout",
     "output_type": "stream",
     "text": [
      "List of supported models in fastembed:\n",
      "- BAAI/bge-base-en: 768\n",
      "- BAAI/bge-base-en-v1.5: 768\n",
      "- BAAI/bge-large-en-v1.5: 1024\n",
      "- BAAI/bge-small-en: 384\n",
      "- BAAI/bge-small-en-v1.5: 384\n",
      "- BAAI/bge-small-zh-v1.5: 512\n",
      "- mixedbread-ai/mxbai-embed-large-v1: 1024\n",
      "- snowflake/snowflake-arctic-embed-xs: 384\n",
      "- snowflake/snowflake-arctic-embed-s: 384\n",
      "- snowflake/snowflake-arctic-embed-m: 768\n",
      "- snowflake/snowflake-arctic-embed-m-long: 768\n",
      "- snowflake/snowflake-arctic-embed-l: 1024\n",
      "- jinaai/jina-clip-v1: 768\n",
      "- Qdrant/clip-ViT-B-32-text: 512\n",
      "- sentence-transformers/all-MiniLM-L6-v2: 384\n",
      "- jinaai/jina-embeddings-v2-base-en: 768\n",
      "- jinaai/jina-embeddings-v2-small-en: 512\n",
      "- jinaai/jina-embeddings-v2-base-de: 768\n",
      "- jinaai/jina-embeddings-v2-base-code: 768\n",
      "- jinaai/jina-embeddings-v2-base-zh: 768\n",
      "- jinaai/jina-embeddings-v2-base-es: 768\n",
      "- thenlper/gte-base: 768\n",
      "- thenlper/gte-large: 1024\n",
      "- nomic-ai/nomic-embed-text-v1.5: 768\n",
      "- nomic-ai/nomic-embed-text-v1.5-Q: 768\n",
      "- nomic-ai/nomic-embed-text-v1: 768\n",
      "- sentence-transformers/paraphrase-multilingual-MiniLM-L12-v2: 384\n",
      "- sentence-transformers/paraphrase-multilingual-mpnet-base-v2: 768\n",
      "- intfloat/multilingual-e5-large: 1024\n",
      "- jinaai/jina-embeddings-v3: 1024\n",
      "=======\n",
      "Minimum dimension: 384\n",
      "Minimum model: BAAI/bge-small-en\n"
     ]
    }
   ],
   "execution_count": 29
  },
  {
   "metadata": {},
   "cell_type": "markdown",
   "source": [
    "## Q6. Indexing with qdrant\n",
    "\n",
    "with BAAI/bge-small-en and extra document, get maximum score from a Qdrant QueryResponse for question"
   ],
   "id": "c67510bbf9650ff0"
  },
  {
   "metadata": {
    "ExecuteTime": {
     "end_time": "2025-06-23T17:02:50.019682Z",
     "start_time": "2025-06-23T17:02:49.238731Z"
    }
   },
   "cell_type": "code",
   "source": [
    "import requests\n",
    "from qdrant_client import QdrantClient, models\n",
    "\n",
    "EMBEDDING_DIMENSIONALITY = 384\n",
    "model_handle = \"BAAI/bge-small-en\"\n",
    "qd_client = QdrantClient(\"http://localhost:6333\")\n",
    "\n",
    "question = \"I just discovered the course. Can I join now?\"\n",
    "\n",
    "docs_url = 'https://github.com/alexeygrigorev/llm-rag-workshop/raw/main/notebooks/documents.json'\n",
    "docs_response = requests.get(docs_url)\n",
    "documents_raw = docs_response.json()\n",
    "\n",
    "\n",
    "documents = []\n",
    "\n",
    "for course in documents_raw:\n",
    "    course_name = course['course']\n",
    "    if course_name != 'machine-learning-zoomcamp':\n",
    "        continue\n",
    "\n",
    "    for doc in course['documents']:\n",
    "        doc['course'] = course_name\n",
    "        documents.append(doc)\n"
   ],
   "id": "57769f47d6425e0a",
   "outputs": [],
   "execution_count": 31
  },
  {
   "metadata": {
    "ExecuteTime": {
     "end_time": "2025-06-23T17:03:28.010181Z",
     "start_time": "2025-06-23T17:03:27.872109Z"
    }
   },
   "cell_type": "code",
   "source": [
    "collection_name = \"zoomcamp-q6\"\n",
    "qd_client.create_collection(\n",
    "    collection_name=collection_name,\n",
    "    vectors_config=models.VectorParams(\n",
    "        size=EMBEDDING_DIMENSIONALITY,\n",
    "        distance=models.Distance.COSINE\n",
    "    )\n",
    ")"
   ],
   "id": "bf02df27a0892aa5",
   "outputs": [
    {
     "data": {
      "text/plain": [
       "True"
      ]
     },
     "execution_count": 32,
     "metadata": {},
     "output_type": "execute_result"
    }
   ],
   "execution_count": 32
  },
  {
   "metadata": {
    "ExecuteTime": {
     "end_time": "2025-06-23T17:06:01.195902Z",
     "start_time": "2025-06-23T17:06:01.125500Z"
    }
   },
   "cell_type": "code",
   "source": [
    "print(\"Working with collection:\", collection_name)\n",
    "print(\"Working with model:\", model_handle)\n",
    "\n",
    "qd_client.create_payload_index(\n",
    "    collection_name=collection_name,\n",
    "    field_name=\"course\",\n",
    "    field_schema=\"keyword\"\n",
    ")\n",
    "\n",
    "points = []\n",
    "for i, doc in enumerate(documents):\n",
    "    text = doc['question'] + ' ' + doc['text']\n",
    "    vector = models.Document(text=text, model=model_handle)\n",
    "    point = models.PointStruct(\n",
    "        id=i,\n",
    "        vector=vector,\n",
    "        payload=doc\n",
    "    )\n",
    "    points.append(point)\n",
    "\n",
    "print(\"Total points:\", len(points))"
   ],
   "id": "4214b21e49a35cc3",
   "outputs": [
    {
     "name": "stdout",
     "output_type": "stream",
     "text": [
      "Working with collection: zoomcamp-q6\n",
      "Working with model: BAAI/bge-small-en\n",
      "Total points: 375\n"
     ]
    }
   ],
   "execution_count": 33
  },
  {
   "metadata": {
    "ExecuteTime": {
     "end_time": "2025-06-23T17:07:11.750911Z",
     "start_time": "2025-06-23T17:06:28.801050Z"
    }
   },
   "cell_type": "code",
   "source": [
    "qd_client.upsert(\n",
    "    collection_name=collection_name,\n",
    "    points=points\n",
    ")"
   ],
   "id": "b4f83aea49ba1063",
   "outputs": [
    {
     "name": "stderr",
     "output_type": "stream",
     "text": [
      "Fetching 5 files: 100%|██████████| 5/5 [00:30<00:00,  6.07s/it]\n"
     ]
    },
    {
     "data": {
      "text/plain": [
       "UpdateResult(operation_id=2, status=<UpdateStatus.COMPLETED: 'completed'>)"
      ]
     },
     "execution_count": 34,
     "metadata": {},
     "output_type": "execute_result"
    }
   ],
   "execution_count": 34
  },
  {
   "metadata": {
    "ExecuteTime": {
     "end_time": "2025-06-23T17:19:34.446178Z",
     "start_time": "2025-06-23T17:19:34.381739Z"
    }
   },
   "cell_type": "code",
   "source": [
    "resp = qd_client.query_points(\n",
    "    collection_name=collection_name,\n",
    "    query=models.Document( #embed the query text locally with \"jinaai/jina-embeddings-v2-small-en\"\n",
    "        text=question,\n",
    "        model=model_handle\n",
    "    ),\n",
    "    limit=5, # top closest matches\n",
    "    with_payload=True #to get metadata in the results\n",
    ")"
   ],
   "id": "fe185a1c42d9279c",
   "outputs": [],
   "execution_count": 35
  },
  {
   "metadata": {
    "ExecuteTime": {
     "end_time": "2025-06-23T17:21:56.517555Z",
     "start_time": "2025-06-23T17:21:56.514700Z"
    }
   },
   "cell_type": "code",
   "source": [
    "scores = [point.score for point in resp.points if point.score is not None]\n",
    "max_score = max(scores)\n",
    "print(f\"Maximum score from a Qdrant QueryResponse: {max_score}\")"
   ],
   "id": "fd26c17286bcf27e",
   "outputs": [
    {
     "name": "stdout",
     "output_type": "stream",
     "text": [
      "Maximum score from a Qdrant QueryResponse: 0.8703172\n"
     ]
    }
   ],
   "execution_count": 39
  }
 ],
 "metadata": {
  "kernelspec": {
   "display_name": "Python 3",
   "language": "python",
   "name": "python3"
  },
  "language_info": {
   "codemirror_mode": {
    "name": "ipython",
    "version": 2
   },
   "file_extension": ".py",
   "mimetype": "text/x-python",
   "name": "python",
   "nbconvert_exporter": "python",
   "pygments_lexer": "ipython2",
   "version": "2.7.6"
  }
 },
 "nbformat": 4,
 "nbformat_minor": 5
}
