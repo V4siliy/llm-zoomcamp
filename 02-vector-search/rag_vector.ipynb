{
 "cells": [
  {
   "metadata": {},
   "cell_type": "markdown",
   "source": "# RAG with Vector Search",
   "id": "cd9c306f4056ad04"
  },
  {
   "cell_type": "code",
   "id": "initial_id",
   "metadata": {
    "collapsed": true,
    "ExecuteTime": {
     "end_time": "2025-06-23T16:24:14.748535Z",
     "start_time": "2025-06-23T16:24:14.687230Z"
    }
   },
   "source": [
    "import os\n",
    "\n",
    "from dotenv import load_dotenv\n",
    "from openai import OpenAI\n",
    "from qdrant_client import QdrantClient, models\n",
    "import requests\n",
    "\n",
    "load_dotenv()\n",
    "\n",
    "OPENROUTER_API_KEY = os.getenv(\"OPENROUTER_API_KEY\")\n",
    "OPENROUTER_ENDPOINT = os.getenv(\"OPENROUTER_ENDPOINT\")\n",
    "OPENROUTER_MODEL = os.getenv(\"OPENROUTER_MODEL\")\n",
    "\n",
    "ai_client = OpenAI(\n",
    "  base_url=OPENROUTER_ENDPOINT,\n",
    "  api_key=OPENROUTER_API_KEY,\n",
    ")\n",
    "\n",
    "EMBEDDING_DIMENSIONALITY = 512\n",
    "collection_name = \"zoomcamp-faq\"\n",
    "model_handle = \"jinaai/jina-embeddings-v2-small-en\"\n",
    "qd_client = QdrantClient(\"http://localhost:6333\")"
   ],
   "outputs": [],
   "execution_count": 38
  },
  {
   "metadata": {
    "ExecuteTime": {
     "end_time": "2025-06-23T16:24:57.382520Z",
     "start_time": "2025-06-23T16:24:56.994515Z"
    }
   },
   "cell_type": "code",
   "source": [
    "docs_url = 'https://github.com/alexeygrigorev/llm-rag-workshop/raw/main/notebooks/documents.json'\n",
    "docs_response = requests.get(docs_url)\n",
    "documents_raw = docs_response.json()\n",
    "\n",
    "documents = []\n",
    "\n",
    "for course in documents_raw:\n",
    "    course_name = course['course']\n",
    "\n",
    "    for doc in course['documents']:\n",
    "        doc['course'] = course_name\n",
    "        documents.append(doc)"
   ],
   "id": "8fa9f1766802f40c",
   "outputs": [],
   "execution_count": 39
  },
  {
   "metadata": {
    "ExecuteTime": {
     "end_time": "2025-06-23T16:24:58.336521Z",
     "start_time": "2025-06-23T16:24:58.185409Z"
    }
   },
   "cell_type": "code",
   "source": [
    "qd_client.create_collection(\n",
    "    collection_name=collection_name,\n",
    "    vectors_config=models.VectorParams(\n",
    "        size=EMBEDDING_DIMENSIONALITY,\n",
    "        distance=models.Distance.COSINE\n",
    "    )\n",
    ")"
   ],
   "id": "f6db9e8586da3c5c",
   "outputs": [
    {
     "data": {
      "text/plain": [
       "True"
      ]
     },
     "execution_count": 40,
     "metadata": {},
     "output_type": "execute_result"
    }
   ],
   "execution_count": 40
  },
  {
   "metadata": {
    "ExecuteTime": {
     "end_time": "2025-06-23T16:25:00.495896Z",
     "start_time": "2025-06-23T16:25:00.419346Z"
    }
   },
   "cell_type": "code",
   "source": [
    "qd_client.create_payload_index(\n",
    "    collection_name=collection_name,\n",
    "    field_name=\"course\",\n",
    "    field_schema=\"keyword\"\n",
    ")\n",
    "\n",
    "points = []\n",
    "\n",
    "for i, doc in enumerate(documents):\n",
    "    text = doc['question'] + ' ' + doc['text']\n",
    "    vector = models.Document(text=text, model=model_handle)\n",
    "    point = models.PointStruct(\n",
    "        id=i,\n",
    "        vector=vector,\n",
    "        payload=doc\n",
    "    )\n",
    "    points.append(point)"
   ],
   "id": "c38968d52f1b805f",
   "outputs": [],
   "execution_count": 41
  },
  {
   "metadata": {
    "ExecuteTime": {
     "end_time": "2025-06-23T16:25:44.155003Z",
     "start_time": "2025-06-23T16:25:12.399917Z"
    }
   },
   "cell_type": "code",
   "source": [
    "qd_client.upsert(\n",
    "    collection_name=collection_name,\n",
    "    points=points\n",
    ")"
   ],
   "id": "d93a09f3d64a511e",
   "outputs": [
    {
     "data": {
      "text/plain": [
       "UpdateResult(operation_id=2, status=<UpdateStatus.COMPLETED: 'completed'>)"
      ]
     },
     "execution_count": 42,
     "metadata": {},
     "output_type": "execute_result"
    }
   ],
   "execution_count": 42
  },
  {
   "metadata": {
    "ExecuteTime": {
     "end_time": "2025-06-23T16:25:55.642425Z",
     "start_time": "2025-06-23T16:25:55.636102Z"
    }
   },
   "cell_type": "code",
   "source": [
    "def search(query, limit=5, course = 'data-engineering-zoomcamp'):\n",
    "    print(f'✅ vector_search is used in {collection_name}')\n",
    "    resp = qd_client.query_points(\n",
    "        collection_name=collection_name,\n",
    "        query=models.Document( #embed the query text locally with \"jinaai/jina-embeddings-v2-small-en\"\n",
    "            text=query,\n",
    "            model=model_handle\n",
    "        ),\n",
    "        query_filter=models.Filter(\n",
    "            must=[\n",
    "                models.FieldCondition(\n",
    "                    key=\"course\",\n",
    "                    match=models.MatchValue(value=course)\n",
    "                )\n",
    "            ]\n",
    "        ),\n",
    "        limit=limit, # top closest matches\n",
    "        with_payload=True #to get metadata in the results\n",
    "    )\n",
    "\n",
    "    results = []\n",
    "\n",
    "    for point in resp.points:\n",
    "        results.append(point.payload)\n",
    "\n",
    "    return results\n",
    "\n",
    "def replace_placeholders(template_path, context_content, question_content):\n",
    "    try:\n",
    "        with open(template_path, \"r\") as f:\n",
    "            prompt = f.read()\n",
    "\n",
    "        prompt = prompt.replace(\"{{CONTEXT}}\", context_content)\n",
    "        prompt = prompt.replace(\"{{QUESTION}}\", question_content)\n",
    "\n",
    "        return prompt\n",
    "    except FileNotFoundError:\n",
    "        print(f\"Error: Template file not found at {template_path}\")\n",
    "        return None\n",
    "    except Exception as e:\n",
    "        print(f\"An error occurred: {e}\")\n",
    "        return None\n",
    "\n",
    "\n",
    "def prepare_prompt(question):\n",
    "    context_data = \"\"\n",
    "    results = search(question)\n",
    "    if not results:\n",
    "        return None\n",
    "    for item in results:\n",
    "\n",
    "        context_data = context_data + f\"section: {item['section']}\\nanswer: {item['text']}\\n\\n\"\n",
    "\n",
    "    prompt = replace_placeholders(\"prompt_assistant.txt\", context_data, question)\n",
    "\n",
    "    return prompt\n",
    "\n",
    "def rag(question):\n",
    "    prompt = prepare_prompt(question)\n",
    "    if not prompt:\n",
    "        print(\"Unable to find information about the question.\")\n",
    "\n",
    "    response = ai_client.chat.completions.create(\n",
    "        model=OPENROUTER_MODEL,\n",
    "        messages=[\n",
    "            {\"role\": \"user\", \"content\": prompt}]\n",
    "    )\n",
    "    return response.choices[0].message.content"
   ],
   "id": "748d0d9598cd76ac",
   "outputs": [],
   "execution_count": 43
  },
  {
   "metadata": {
    "ExecuteTime": {
     "end_time": "2025-06-23T16:25:59.526461Z",
     "start_time": "2025-06-23T16:25:57.335733Z"
    }
   },
   "cell_type": "code",
   "source": [
    "result = rag(\"What if I submit homeworks late?\")\n",
    "print(result)"
   ],
   "id": "f410f1d86a989d70",
   "outputs": [
    {
     "name": "stdout",
     "output_type": "stream",
     "text": [
      "✅ vector_search is used in zoomcamp-faq\n",
      "<answer>\n",
      "Hi there!\n",
      "\n",
      "Regarding late homework submissions, the FAQ states that generally, late submissions are not allowed. However, if the submission form is still open after the due date, you may still be able to submit your homework. You should always confirm your submission by checking the date-timestamp on the Course page.\n",
      "\n",
      "I hope this helps!\n",
      "\n",
      "Best,\n",
      "Your TA\n",
      "</answer>\n"
     ]
    }
   ],
   "execution_count": 44
  },
  {
   "metadata": {},
   "cell_type": "code",
   "outputs": [],
   "execution_count": null,
   "source": "",
   "id": "cfac6d432cca7589"
  }
 ],
 "metadata": {
  "kernelspec": {
   "display_name": "Python 3",
   "language": "python",
   "name": "python3"
  },
  "language_info": {
   "codemirror_mode": {
    "name": "ipython",
    "version": 2
   },
   "file_extension": ".py",
   "mimetype": "text/x-python",
   "name": "python",
   "nbconvert_exporter": "python",
   "pygments_lexer": "ipython2",
   "version": "2.7.6"
  }
 },
 "nbformat": 4,
 "nbformat_minor": 5
}
