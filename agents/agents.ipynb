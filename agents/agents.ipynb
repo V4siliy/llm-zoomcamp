{
 "cells": [
  {
   "metadata": {},
   "cell_type": "markdown",
   "source": "## Agents & MCP",
   "id": "92ea3b17564231a1"
  },
  {
   "metadata": {
    "ExecuteTime": {
     "end_time": "2025-07-15T15:40:05.166687Z",
     "start_time": "2025-07-15T15:40:05.162993Z"
    }
   },
   "cell_type": "code",
   "source": [
    "import random\n",
    "import os\n",
    "import json\n",
    "\n",
    "from IPython.display import display, HTML\n",
    "import markdown\n",
    "import asyncio\n",
    "from dotenv import load_dotenv\n",
    "from openai import OpenAI\n",
    "from fastmcp import Client\n",
    "\n",
    "load_dotenv()\n",
    "\n",
    "OPENAI_API_KEY = os.getenv(\"OPENAI_API_KEY\")"
   ],
   "id": "b87fda0b50672807",
   "outputs": [],
   "execution_count": 19
  },
  {
   "metadata": {},
   "cell_type": "markdown",
   "source": "## Q1. Define function description",
   "id": "7629f09b41c9ab12"
  },
  {
   "cell_type": "code",
   "id": "initial_id",
   "metadata": {
    "collapsed": true,
    "ExecuteTime": {
     "end_time": "2025-07-15T15:42:04.293053Z",
     "start_time": "2025-07-15T15:42:04.289089Z"
    }
   },
   "source": [
    "known_weather_data = {\n",
    "    'berlin': 20.0\n",
    "}\n",
    "\n",
    "def get_weather(city: str) -> float:\n",
    "    city = city.strip().lower()\n",
    "\n",
    "    if city in known_weather_data:\n",
    "        return known_weather_data[city]\n",
    "\n",
    "    return round(random.uniform(-5, 35), 1)\n",
    "\n",
    "get_weather_tool_description = {\n",
    "    \"type\": \"function\",\n",
    "    \"name\": \"get_weather\",\n",
    "    \"description\": \"Get the current weather for a specific city\",\n",
    "    \"parameters\": {\n",
    "        \"type\": \"object\",\n",
    "        \"properties\": {\n",
    "            \"city\": {\n",
    "                \"type\": \"string\",\n",
    "                \"description\": \"The name of the city, e.g., Berlin, London, New York\"\n",
    "            }\n",
    "        },\n",
    "        \"required\": [\"city\"],\n",
    "        \"additionalProperties\": False\n",
    "    }\n",
    "}\n"
   ],
   "outputs": [],
   "execution_count": 24
  },
  {
   "metadata": {
    "ExecuteTime": {
     "end_time": "2025-07-15T15:40:10.011246Z",
     "start_time": "2025-07-15T15:40:10.005724Z"
    }
   },
   "cell_type": "code",
   "source": [
    "class Tools:\n",
    "    def __init__(self):\n",
    "        self.tools = {}\n",
    "        self.functions = {}\n",
    "\n",
    "    def add_tool(self, function, description):\n",
    "        self.tools[function.__name__] = description\n",
    "        self.functions[function.__name__] = function\n",
    "\n",
    "    def get_tools(self):\n",
    "        return list(self.tools.values())\n",
    "\n",
    "    def function_call(self, tool_call_response):\n",
    "        function_name = tool_call_response.name\n",
    "        arguments = json.loads(tool_call_response.arguments)\n",
    "\n",
    "        f = self.functions[function_name]\n",
    "        result = f(**arguments)\n",
    "\n",
    "        return {\n",
    "            \"type\": \"function_call_output\",\n",
    "            \"call_id\": tool_call_response.call_id,\n",
    "            \"output\": json.dumps(result, indent=2),\n",
    "        }\n",
    "\n",
    "\n",
    "def shorten(text, max_length=50):\n",
    "    if len(text) <= max_length:\n",
    "        return text\n",
    "\n",
    "    return text[:max_length - 3] + \"...\"\n",
    "\n",
    "\n",
    "class ChatInterface:\n",
    "    def input(self):\n",
    "        question = input(\"You:\")\n",
    "        return question\n",
    "\n",
    "    def display(self, message):\n",
    "        print(message)\n",
    "\n",
    "    def display_function_call(self, entry, result):\n",
    "        call_html = f\"\"\"\n",
    "            <details>\n",
    "            <summary>Function call: <tt>{entry.name}({shorten(entry.arguments)})</tt></summary>\n",
    "            <div>\n",
    "                <b>Call</b>\n",
    "                <pre>{entry}</pre>\n",
    "            </div>\n",
    "            <div>\n",
    "                <b>Output</b>\n",
    "                <pre>{result['output']}</pre>\n",
    "            </div>\n",
    "\n",
    "            </details>\n",
    "        \"\"\"\n",
    "        display(HTML(call_html))\n",
    "\n",
    "    def display_response(self, entry):\n",
    "        response_html = markdown.markdown(entry.content[0].text)\n",
    "        html = f\"\"\"\n",
    "            <div>\n",
    "                <div><b>Assistant:</b></div>\n",
    "                <div>{response_html}</div>\n",
    "            </div>\n",
    "        \"\"\"\n",
    "        display(HTML(html))\n",
    "\n",
    "\n",
    "\n",
    "class ChatAssistant:\n",
    "    def __init__(self, tools, developer_prompt, chat_interface, client):\n",
    "        self.tools = tools\n",
    "        self.developer_prompt = developer_prompt\n",
    "        self.chat_interface = chat_interface\n",
    "        self.client = client\n",
    "\n",
    "    def gpt(self, chat_messages):\n",
    "        return self.client.responses.create(\n",
    "            model='gpt-4o-mini',\n",
    "            input=chat_messages,\n",
    "            tools=self.tools.get_tools(),\n",
    "        )\n",
    "\n",
    "\n",
    "    def run(self):\n",
    "        chat_messages = [\n",
    "            {\"role\": \"developer\", \"content\": self.developer_prompt},\n",
    "        ]\n",
    "\n",
    "        # Chat loop\n",
    "        while True:\n",
    "            question = self.chat_interface.input()\n",
    "            if question.strip().lower() == 'stop':\n",
    "                self.chat_interface.display(\"Chat ended.\")\n",
    "                break\n",
    "\n",
    "            message = {\"role\": \"user\", \"content\": question}\n",
    "            chat_messages.append(message)\n",
    "\n",
    "            while True:  # inner request loop\n",
    "                response = self.gpt(chat_messages)\n",
    "\n",
    "                has_messages = False\n",
    "\n",
    "                for entry in response.output:\n",
    "                    chat_messages.append(entry)\n",
    "\n",
    "                    if entry.type == \"function_call\":\n",
    "                        result = self.tools.function_call(entry)\n",
    "                        chat_messages.append(result)\n",
    "                        self.chat_interface.display_function_call(entry, result)\n",
    "\n",
    "                    elif entry.type == \"message\":\n",
    "                        self.chat_interface.display_response(entry)\n",
    "                        has_messages = True\n",
    "\n",
    "                if has_messages:\n",
    "                    break\n"
   ],
   "id": "666353b1fabf8303",
   "outputs": [],
   "execution_count": 21
  },
  {
   "metadata": {
    "ExecuteTime": {
     "end_time": "2025-07-15T15:42:17.741307Z",
     "start_time": "2025-07-15T15:42:17.737771Z"
    }
   },
   "cell_type": "code",
   "source": [
    "def set_weather(city: str, temp: float) -> str:\n",
    "    city = city.strip().lower()\n",
    "    known_weather_data[city] = temp\n",
    "    return 'OK'\n",
    "\n",
    "set_weather_tool_description = {\n",
    "    \"type\": \"function\",\n",
    "    \"name\": \"set_weather\",\n",
    "    \"description\": \"Set or update the weather temperature for a specific city\",\n",
    "    \"parameters\": {\n",
    "        \"type\": \"object\",\n",
    "        \"properties\": {\n",
    "            \"city\": {\n",
    "                \"type\": \"string\",\n",
    "                \"description\": \"The name of the city to set the weather for, e.g., Paris, Rome\"\n",
    "            },\n",
    "            \"temp\": {\n",
    "                \"type\": \"number\",\n",
    "                \"description\": \"The temperature in Celsius to set for the city\"\n",
    "            }\n",
    "        },\n",
    "        \"required\": [\"city\", \"temp\"],\n",
    "        \"additionalProperties\": False\n",
    "    }\n",
    "}"
   ],
   "id": "1afb4b95c14cf1e1",
   "outputs": [],
   "execution_count": 25
  },
  {
   "metadata": {
    "ExecuteTime": {
     "end_time": "2025-07-15T15:33:37.613432Z",
     "start_time": "2025-07-15T15:33:37.543753Z"
    }
   },
   "cell_type": "code",
   "source": [
    "client = OpenAI()\n",
    "\n",
    "_tools = Tools()\n",
    "_tools.add_tool(get_weather, get_weather_tool_description)\n",
    "_tools.add_tool(set_weather, set_weather_tool_description)\n",
    "\n",
    "_chat_interface = ChatInterface()\n",
    "\n",
    "developer_prompt_1 = \"\"\"\n",
    "You are a sophisticated weather management assistant.\n",
    "Prioritize retrieving existing weather data first when asked about a city's weather.\n",
    "If a user asks to \"set\" or \"update\" weather, use the `set_weather` tool.\n",
    "Be helpful and confirm once data is set.\n",
    "If the city is not explicitly stated or temperature is missing for `set_weather`, ask for clarification.\n",
    "\"\"\"\n",
    "\n",
    "_assistant = ChatAssistant(\n",
    "    developer_prompt=developer_prompt_1,\n",
    "    chat_interface=_chat_interface,\n",
    "    client=client,\n",
    "    tools=_tools,\n",
    ")"
   ],
   "id": "c002821616f3a356",
   "outputs": [],
   "execution_count": 10
  },
  {
   "metadata": {},
   "cell_type": "markdown",
   "source": [
    "## Q2. Adding another tool\n",
    "\n",
    "Now let's write a description for it.\n",
    "\n",
    "What did you write?"
   ],
   "id": "c000e24f8f9e196f"
  },
  {
   "metadata": {
    "ExecuteTime": {
     "end_time": "2025-07-15T15:34:30.415835Z",
     "start_time": "2025-07-15T15:33:41.394162Z"
    }
   },
   "cell_type": "code",
   "source": "_assistant.run()",
   "id": "483824f580851fa9",
   "outputs": [
    {
     "data": {
      "text/plain": [
       "<IPython.core.display.HTML object>"
      ],
      "text/html": [
       "\n",
       "            <details>\n",
       "            <summary>Function call: <tt>set_weather({\"city\":\"Kaliningrad\",\"temp\":24})</tt></summary>\n",
       "            <div>\n",
       "                <b>Call</b>\n",
       "                <pre>ResponseFunctionToolCall(arguments='{\"city\":\"Kaliningrad\",\"temp\":24}', call_id='call_1M8GmlHnebkAByjFt7qVHCcB', name='set_weather', type='function_call', id='fc_687674ebc38c8194937410544980d8210f27be561e4d208c', status='completed')</pre>\n",
       "            </div>\n",
       "            <div>\n",
       "                <b>Output</b>\n",
       "                <pre>\"OK\"</pre>\n",
       "            </div>\n",
       "\n",
       "            </details>\n",
       "        "
      ]
     },
     "metadata": {},
     "output_type": "display_data"
    },
    {
     "data": {
      "text/plain": [
       "<IPython.core.display.HTML object>"
      ],
      "text/html": [
       "\n",
       "            <details>\n",
       "            <summary>Function call: <tt>set_weather({\"city\":\"Belgrade\",\"temp\":37})</tt></summary>\n",
       "            <div>\n",
       "                <b>Call</b>\n",
       "                <pre>ResponseFunctionToolCall(arguments='{\"city\":\"Belgrade\",\"temp\":37}', call_id='call_kBhitFyr1sgLgYu1pYci7bhd', name='set_weather', type='function_call', id='fc_687674ec55548194a0aaf2599667accb0f27be561e4d208c', status='completed')</pre>\n",
       "            </div>\n",
       "            <div>\n",
       "                <b>Output</b>\n",
       "                <pre>\"OK\"</pre>\n",
       "            </div>\n",
       "\n",
       "            </details>\n",
       "        "
      ]
     },
     "metadata": {},
     "output_type": "display_data"
    },
    {
     "data": {
      "text/plain": [
       "<IPython.core.display.HTML object>"
      ],
      "text/html": [
       "\n",
       "            <details>\n",
       "            <summary>Function call: <tt>set_weather({\"city\":\"Oslo\",\"temp\":12})</tt></summary>\n",
       "            <div>\n",
       "                <b>Call</b>\n",
       "                <pre>ResponseFunctionToolCall(arguments='{\"city\":\"Oslo\",\"temp\":12}', call_id='call_g5RqxWRmCAuTx3TwvWaC6fYw', name='set_weather', type='function_call', id='fc_687674ec7cfc8194a5501f3ca872e31f0f27be561e4d208c', status='completed')</pre>\n",
       "            </div>\n",
       "            <div>\n",
       "                <b>Output</b>\n",
       "                <pre>\"OK\"</pre>\n",
       "            </div>\n",
       "\n",
       "            </details>\n",
       "        "
      ]
     },
     "metadata": {},
     "output_type": "display_data"
    },
    {
     "data": {
      "text/plain": [
       "<IPython.core.display.HTML object>"
      ],
      "text/html": [
       "\n",
       "            <div>\n",
       "                <div><b>Assistant:</b></div>\n",
       "                <div><p>I've successfully updated the weather for all the specified cities:</p>\n",
       "<ul>\n",
       "<li><strong>Kaliningrad</strong>: 24°C</li>\n",
       "<li><strong>Belgrade</strong>: 37°C</li>\n",
       "<li><strong>Oslo</strong>: 12°C</li>\n",
       "</ul>\n",
       "<p>If you need anything else, feel free to ask!</p></div>\n",
       "            </div>\n",
       "        "
      ]
     },
     "metadata": {},
     "output_type": "display_data"
    },
    {
     "data": {
      "text/plain": [
       "<IPython.core.display.HTML object>"
      ],
      "text/html": [
       "\n",
       "            <details>\n",
       "            <summary>Function call: <tt>get_weather({\"city\":\"Oslo\"})</tt></summary>\n",
       "            <div>\n",
       "                <b>Call</b>\n",
       "                <pre>ResponseFunctionToolCall(arguments='{\"city\":\"Oslo\"}', call_id='call_jYhQV2aEzMoCmMR1my0Vop0C', name='get_weather', type='function_call', id='fc_687674f444488194b41d48bb34b99d010f27be561e4d208c', status='completed')</pre>\n",
       "            </div>\n",
       "            <div>\n",
       "                <b>Output</b>\n",
       "                <pre>12</pre>\n",
       "            </div>\n",
       "\n",
       "            </details>\n",
       "        "
      ]
     },
     "metadata": {},
     "output_type": "display_data"
    },
    {
     "data": {
      "text/plain": [
       "<IPython.core.display.HTML object>"
      ],
      "text/html": [
       "\n",
       "            <div>\n",
       "                <div><b>Assistant:</b></div>\n",
       "                <div><p>The current weather in <strong>Oslo</strong> is 12°C. If you need more information or assistance, just let me know!</p></div>\n",
       "            </div>\n",
       "        "
      ]
     },
     "metadata": {},
     "output_type": "display_data"
    },
    {
     "name": "stdout",
     "output_type": "stream",
     "text": [
      "Chat ended.\n"
     ]
    }
   ],
   "execution_count": 11
  },
  {
   "metadata": {
    "ExecuteTime": {
     "end_time": "2025-07-15T15:37:10.340689Z",
     "start_time": "2025-07-15T15:37:10.331913Z"
    }
   },
   "cell_type": "code",
   "source": [
    "from fastmcp import FastMCP\n",
    "\n",
    "mcp = FastMCP(\"Weather Service 🌦️\")\n",
    "\n",
    "# In a real application, known_weather_data might be a persistent database or cache\n",
    "known_weather_data = {\n",
    "    'berlin': 20.0\n",
    "}\n",
    "\n",
    "@mcp.tool\n",
    "def get_weather(city: str) -> float:\n",
    "    \"\"\"\n",
    "    Retrieves the temperature for a specified city.\n",
    "\n",
    "    Parameters:\n",
    "        city (str): The name of the city for which to retrieve weather data.\n",
    "\n",
    "    Returns:\n",
    "        float: The temperature associated with the city.\n",
    "    \"\"\"\n",
    "    city = city.strip().lower()\n",
    "\n",
    "    if city in known_weather_data:\n",
    "        return known_weather_data[city]\n",
    "\n",
    "    # Simulate random weather if not in known data\n",
    "    return round(random.uniform(-5, 35), 1)\n",
    "\n",
    "@mcp.tool\n",
    "def set_weather(city: str, temp: float) -> str:\n",
    "    \"\"\"\n",
    "    Sets the temperature for a specified city.\n",
    "\n",
    "    Parameters:\n",
    "        city (str): The name of the city for which to set the weather data.\n",
    "        temp (float): The temperature to associate with the city.\n",
    "\n",
    "    Returns:\n",
    "        str: A confirmation string 'OK' indicating successful update.\n",
    "    \"\"\"\n",
    "    city = city.strip().lower()\n",
    "    known_weather_data[city] = temp\n",
    "    return 'OK'"
   ],
   "id": "91181ae500760488",
   "outputs": [],
   "execution_count": 15
  },
  {
   "metadata": {},
   "cell_type": "markdown",
   "source": [
    "## Q3. Run FastMCP\n",
    "\n",
    "What's the version of FastMCP you installed?\n",
    "\n",
    "> fastmcp==2.9.2"
   ],
   "id": "32610932c9d21bda"
  },
  {
   "metadata": {
    "ExecuteTime": {
     "end_time": "2025-07-15T15:37:11.276351Z",
     "start_time": "2025-07-15T15:37:11.273342Z"
    }
   },
   "cell_type": "code",
   "source": [
    "if __name__ == \"__main__\":\n",
    "    # Check if an asyncio event loop is already running\n",
    "    try:\n",
    "        loop = asyncio.get_running_loop()\n",
    "        if loop.is_running():\n",
    "            print(\"Detected running asyncio loop. Running FastMCP in a new task...\")\n",
    "            # If a loop is already running (e.g., in Jupyter),\n",
    "            # run mcp.run() as a task in the existing loop.\n",
    "            # This allows the Jupyter kernel to remain responsive.\n",
    "            asyncio.create_task(mcp.run_async())\n",
    "        else:\n",
    "            mcp.run() # Run normally if no loop is running\n",
    "    except RuntimeError:\n",
    "        # No running loop, so run normally\n",
    "        mcp.run()"
   ],
   "id": "3b90adb61170093a",
   "outputs": [
    {
     "name": "stdout",
     "output_type": "stream",
     "text": [
      "Detected running asyncio loop. Running FastMCP in a new task...\n"
     ]
    }
   ],
   "execution_count": 16
  },
  {
   "metadata": {},
   "cell_type": "markdown",
   "source": [
    "## Q4. Simple MCP Server\n",
    "\n",
    "What do you see in the output?\n",
    "\n",
    "Look for a string that matches this template:\n",
    "\n",
    "Starting MCP server 'Weather Service 🌦' with transport '<TODO>'\n",
    "What do you have instead of <TODO>?\n",
    "\n",
    "> `'stdio'`"
   ],
   "id": "209b91a40bbb33e4"
  },
  {
   "metadata": {},
   "cell_type": "markdown",
   "source": [
    "## Q5. Protocol\n",
    "\n",
    "There are different ways to communicate with an MCP server.\n",
    "Ours is currently running using standart input/output, which\n",
    "means that the client write something to stdin and read the\n",
    "answer using stdout.\n",
    "\n",
    "Our weather server is currently running.\n",
    "\n",
    "This is how we start communitcating with it:\n",
    "\n",
    "- First, we send an initialization request -- this way, we register our client with the server:\n",
    "    ```json\n",
    "    {\"jsonrpc\": \"2.0\", \"id\": 1, \"method\": \"initialize\", \"params\": {\"protocolVersion\": \"2024-11-05\", \"capabilities\": {\"roots\": {\"listChanged\": true}, \"sampling\": {}}, \"clientInfo\": {\"name\": \"test-client\", \"version\": \"1.0.0\"}}}\n",
    "    ```\n",
    "    We should get back something like that, which is an aknowledgement of the request:\n",
    "    ```json\n",
    "    {\"jsonrpc\":\"2.0\",\"id\":1,\"result\":{\"protocolVersion\":\"2024-11-05\",\"capabilities\":{\"experimental\":{},\"prompts\":{\"listChanged\":false},\"resources\":{\"subscribe\":false,\"listChanged\":false},\"tools\":{\"listChanged\":true}},\"serverInfo\":{\"name\":\"Demo 🚀\",\"version\":\"1.9.4\"}}}\n",
    "    ```\n",
    "-  Next, we reply back, confirming the initialization:\n",
    "    ```json\n",
    "    {\"jsonrpc\": \"2.0\", \"method\": \"notifications/initialized\"}\n",
    "    ```\n",
    "    We don't expect to get anything in response\n",
    "- Now we can ask for a list of available methods:\n",
    "    ```json\n",
    "    {\"jsonrpc\": \"2.0\", \"id\": 2, \"method\": \"tools/list\"}\n",
    "    ```\n",
    "- Let's ask the temperature in Berlin:\n",
    "    ```json\n",
    "    {\"jsonrpc\": \"2.0\", \"id\": 3, \"method\": \"tools/call\", \"params\": {\"name\": \"<TODO>\", \"arguments\": {<TODO>}}}\n",
    "    ```\n",
    "- What did you get in response?\n",
    "\n",
    "> ```json\n",
    "{'jsonrpc': '2.0', 'id': 3, 'error': {'code': -32602, 'message': 'Invalid request parameters', 'data': ''}}\n",
    "```"
   ],
   "id": "42baab6a32601517"
  },
  {
   "metadata": {},
   "cell_type": "markdown",
   "source": [
    "## Q6. Client\n",
    "\n",
    "Use the client to get the list of available tools\n",
    "of our script. How does the result look like?"
   ],
   "id": "76037806a9ee34ba"
  },
  {
   "metadata": {},
   "cell_type": "code",
   "outputs": [],
   "execution_count": 31,
   "source": [
    "async def main():\n",
    "    # For Jupyter notebook - using the server instance directly\n",
    "    import server  # Import your server.py file\n",
    "\n",
    "    async with Client(server.mcp) as mcp_client:\n",
    "        print(\"=== Getting list of available tools ===\")\n",
    "        tools = await mcp_client.list_tools()\n",
    "        print(f\"Available tools: {tools}\")\n",
    "\n",
    "        print(\"\\n=== Testing get_weather tool ===\")\n",
    "        weather_result = await mcp_client.call_tool(\"get_weather\", {\"city\": \"Berlin\"})\n",
    "        print(f\"Weather in Berlin: {weather_result}\")\n"
   ],
   "id": "a928d877735b30af"
  },
  {
   "metadata": {
    "ExecuteTime": {
     "end_time": "2025-07-15T15:48:18.981340Z",
     "start_time": "2025-07-15T15:48:18.973258Z"
    }
   },
   "cell_type": "code",
   "source": [
    "# Run the async function\n",
    "await main()"
   ],
   "id": "2c3a237371c1961",
   "outputs": [
    {
     "name": "stdout",
     "output_type": "stream",
     "text": [
      "=== Getting list of available tools ===\n",
      "Available tools: [Tool(name='get_weather', description='Retrieves the temperature for a specified city.\\n\\nParameters:\\n    city (str): The name of the city for which to retrieve weather data.\\n\\nReturns:\\n    float: The temperature associated with the city.', inputSchema={'properties': {'city': {'title': 'City', 'type': 'string'}}, 'required': ['city'], 'type': 'object'}, annotations=None), Tool(name='set_weather', description=\"Sets the temperature for a specified city.\\n\\nParameters:\\n    city (str): The name of the city for which to set the weather data.\\n    temp (float): The temperature to associate with the city.\\n\\nReturns:\\n    str: A confirmation string 'OK' indicating successful update.\", inputSchema={'properties': {'city': {'title': 'City', 'type': 'string'}, 'temp': {'title': 'Temp', 'type': 'number'}}, 'required': ['city', 'temp'], 'type': 'object'}, annotations=None)]\n",
      "\n",
      "=== Testing get_weather tool ===\n",
      "Weather in Berlin: [TextContent(type='text', text='20.0', annotations=None)]\n"
     ]
    }
   ],
   "execution_count": 32
  },
  {
   "metadata": {},
   "cell_type": "code",
   "outputs": [],
   "execution_count": null,
   "source": "",
   "id": "468845d9226c135"
  }
 ],
 "metadata": {
  "kernelspec": {
   "display_name": "Python 3",
   "language": "python",
   "name": "python3"
  },
  "language_info": {
   "codemirror_mode": {
    "name": "ipython",
    "version": 2
   },
   "file_extension": ".py",
   "mimetype": "text/x-python",
   "name": "python",
   "nbconvert_exporter": "python",
   "pygments_lexer": "ipython2",
   "version": "2.7.6"
  }
 },
 "nbformat": 4,
 "nbformat_minor": 5
}
