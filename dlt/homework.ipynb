{
 "cells": [
  {
   "metadata": {
    "ExecuteTime": {
     "end_time": "2025-07-09T18:45:57.030984Z",
     "start_time": "2025-07-09T18:45:56.366828Z"
    }
   },
   "cell_type": "code",
   "source": [
    "import dlt\n",
    "from dlt.destinations import qdrant\n",
    "\n",
    "import requests\n"
   ],
   "id": "f2e0e3292b8bc58b",
   "outputs": [],
   "execution_count": 3
  },
  {
   "metadata": {},
   "cell_type": "markdown",
   "source": [
    "In this homework, we will load the data from our FAQ to Qdrant\n",
    "\n",
    "Let's install dlt with Qdrant support and Qdrant client:\n",
    "\n",
    "`uv add \"dlt[qdrant]\" \"qdrant-client[fastembed]\"`\n",
    "\n",
    "For reading the FAQ data, we have this helper function.\n",
    "Annotated with @dlt.resource for creating a dlt pipeline."
   ],
   "id": "279ade071c237fe9"
  },
  {
   "cell_type": "code",
   "id": "initial_id",
   "metadata": {
    "collapsed": true,
    "ExecuteTime": {
     "end_time": "2025-07-09T18:45:57.043508Z",
     "start_time": "2025-07-09T18:45:57.040883Z"
    }
   },
   "source": [
    "@dlt.resource(write_disposition=\"replace\", name=\"zoomcamp_data\")\n",
    "def zoomcamp_data():\n",
    "    docs_url = 'https://github.com/alexeygrigorev/llm-rag-workshop/raw/main/notebooks/documents.json'\n",
    "    docs_response = requests.get(docs_url)\n",
    "    documents_raw = docs_response.json()\n",
    "\n",
    "    for course in documents_raw:\n",
    "        course_name = course['course']\n",
    "\n",
    "        for doc in course['documents']:\n",
    "            doc['course'] = course_name\n",
    "            yield doc"
   ],
   "outputs": [],
   "execution_count": 4
  },
  {
   "metadata": {
    "ExecuteTime": {
     "end_time": "2025-07-09T18:46:46.580920Z",
     "start_time": "2025-07-09T18:46:46.577484Z"
    }
   },
   "cell_type": "code",
   "source": [
    "qdrant_destination = qdrant(\n",
    "  qd_path=\"db.qdrant\",\n",
    ")"
   ],
   "id": "bca61c0b2113790d",
   "outputs": [],
   "execution_count": 5
  },
  {
   "metadata": {},
   "cell_type": "markdown",
   "source": [
    "## Question 2. dlt pipeline\n",
    "\n",
    "Now let's create a pipeline.\n",
    "\n",
    "We need to define a destination for that. Let's use the qdrant one.\n",
    "In this case, we tell dlt (and Qdrant) to create a folder with our data, and the name for it will be db.qdrant.\n",
    "\n",
    "How many rows were inserted into the `zoomcamp_data` collection?\n",
    "\n",
    "Look for \"Normalized data for the following tables:\" in the trace output."
   ],
   "id": "8f4ab3bc2d50a1c6"
  },
  {
   "metadata": {
    "ExecuteTime": {
     "end_time": "2025-07-09T18:47:29.418336Z",
     "start_time": "2025-07-09T18:47:15.203403Z"
    }
   },
   "cell_type": "code",
   "source": [
    "pipeline = dlt.pipeline(\n",
    "    pipeline_name=\"zoomcamp_pipeline\",\n",
    "    destination=qdrant_destination,\n",
    "    dataset_name=\"zoomcamp_tagged_data\"\n",
    "\n",
    ")\n",
    "load_info = pipeline.run(zoomcamp_data())\n",
    "print(pipeline.last_trace)\n",
    "# zoomcamp_data: 948 row(s)"
   ],
   "id": "5981eb60f4e0ea3f",
   "outputs": [
    {
     "name": "stderr",
     "output_type": "stream",
     "text": [
      "2025-07-09 20:47:15,377|[WARNING]|51602|8383581312|dlt|pipeline.py|_state_to_props:1694|The destination dlt.destinations.duckdb:None in state differs from destination dlt.destinations.qdrant:qdrant in pipeline and will be ignored\n",
      "/Users/vasiliy/projects/llm-zoomcamp/.venv/lib/python3.11/site-packages/tqdm/auto.py:21: TqdmWarning: IProgress not found. Please update jupyter and ipywidgets. See https://ipywidgets.readthedocs.io/en/stable/user_install.html\n",
      "  from .autonotebook import tqdm as notebook_tqdm\n",
      "Fetching 5 files: 100%|██████████| 5/5 [00:05<00:00,  1.20s/it]\n"
     ]
    },
    {
     "name": "stdout",
     "output_type": "stream",
     "text": [
      "Run started at 2025-07-09 18:47:15.380894+00:00 and COMPLETED in 14.03 seconds with 4 steps.\n",
      "Step extract COMPLETED in 1.18 seconds.\n",
      "\n",
      "Load package 1752086845.0042272 is EXTRACTED and NOT YET LOADED to the destination and contains no failed jobs\n",
      "\n",
      "Step normalize COMPLETED in 0.05 seconds.\n",
      "Normalized data for the following tables:\n",
      "- _dlt_pipeline_state: 1 row(s)\n",
      "- zoomcamp_data: 948 row(s)\n",
      "\n",
      "Load package 1752086845.0042272 is NORMALIZED and NOT YET LOADED to the destination and contains no failed jobs\n",
      "\n",
      "Step load COMPLETED in 3.18 seconds.\n",
      "Pipeline zoomcamp_pipeline load step completed in 3.17 seconds\n",
      "1 load package(s) were loaded to destination qdrant and into dataset zoomcamp_tagged_data\n",
      "The qdrant destination used /Users/vasiliy/projects/llm-zoomcamp/dlt/db.qdrant location to store data\n",
      "Load package 1752086845.0042272 is LOADED and contains no failed jobs\n",
      "\n",
      "Step run COMPLETED in 14.03 seconds.\n",
      "Pipeline zoomcamp_pipeline load step completed in 3.17 seconds\n",
      "1 load package(s) were loaded to destination qdrant and into dataset zoomcamp_tagged_data\n",
      "The qdrant destination used /Users/vasiliy/projects/llm-zoomcamp/dlt/db.qdrant location to store data\n",
      "Load package 1752086845.0042272 is LOADED and contains no failed jobs\n"
     ]
    }
   ],
   "execution_count": 6
  },
  {
   "metadata": {},
   "cell_type": "markdown",
   "source": [
    "## Question 3. Embeddings\n",
    "\n",
    "When inserting the data, an embedding model was used. Which one?\n",
    "\n",
    "You can find this out by inspecting the meta.json file created in the target folder. During the data insertion process, a folder named db.qdrant will be created, and the meta.json file will be located inside this folder.\n",
    "\n",
    "`fast-bge-small-en`"
   ],
   "id": "35f32ff06e7fd73f"
  }
 ],
 "metadata": {
  "kernelspec": {
   "display_name": "Python 3",
   "language": "python",
   "name": "python3"
  },
  "language_info": {
   "codemirror_mode": {
    "name": "ipython",
    "version": 2
   },
   "file_extension": ".py",
   "mimetype": "text/x-python",
   "name": "python",
   "nbconvert_exporter": "python",
   "pygments_lexer": "ipython2",
   "version": "2.7.6"
  }
 },
 "nbformat": 4,
 "nbformat_minor": 5
}
