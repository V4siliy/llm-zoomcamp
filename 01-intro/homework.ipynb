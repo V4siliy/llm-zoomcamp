{
 "cells": [
  {
   "metadata": {},
   "cell_type": "markdown",
   "source": "# Introduction to LLM and RAG",
   "id": "7b63eaef83ad2c55"
  },
  {
   "cell_type": "code",
   "id": "initial_id",
   "metadata": {
    "collapsed": true,
    "ExecuteTime": {
     "end_time": "2025-06-16T17:54:30.104675Z",
     "start_time": "2025-06-16T17:54:29.248906Z"
    }
   },
   "source": [
    "import json\n",
    "\n",
    "import minsearch"
   ],
   "outputs": [],
   "execution_count": 25
  },
  {
   "metadata": {
    "ExecuteTime": {
     "end_time": "2025-06-16T17:54:30.651237Z",
     "start_time": "2025-06-16T17:54:30.646749Z"
    }
   },
   "cell_type": "code",
   "source": [
    "with open('data/documents.json', 'r') as f:\n",
    "    docs_raw = json.load(f)"
   ],
   "id": "f3bf1b3c6daac188",
   "outputs": [],
   "execution_count": 26
  },
  {
   "metadata": {
    "ExecuteTime": {
     "end_time": "2025-06-16T17:54:31.295068Z",
     "start_time": "2025-06-16T17:54:31.292634Z"
    }
   },
   "cell_type": "code",
   "source": [
    "documents = []\n",
    "course_names = set()\n",
    "\n",
    "for course in docs_raw:\n",
    "        course_name = course['course']\n",
    "        course_names.add(course_name)\n",
    "        for doc in course['documents']:\n",
    "            doc['course'] = course_name\n",
    "            documents.append(doc)\n",
    "\n",
    "print('Total documents:', len(documents))\n",
    "print('Courses:', course_names)"
   ],
   "id": "662ec7f059d900fa",
   "outputs": [
    {
     "name": "stdout",
     "output_type": "stream",
     "text": [
      "Total documents: 948\n",
      "Courses: {'data-engineering-zoomcamp', 'machine-learning-zoomcamp', 'mlops-zoomcamp'}\n"
     ]
    }
   ],
   "execution_count": 27
  },
  {
   "metadata": {},
   "cell_type": "markdown",
   "source": "## Working with minsearch library",
   "id": "aeba1dc0ee82fb4d"
  },
  {
   "metadata": {
    "ExecuteTime": {
     "end_time": "2025-06-16T17:54:32.674083Z",
     "start_time": "2025-06-16T17:54:32.621117Z"
    }
   },
   "cell_type": "code",
   "source": [
    "index = minsearch.Index(\n",
    "    text_fields=['question', 'text', 'section'],\n",
    "    keyword_fields=['course']\n",
    ")\n",
    "index.fit(documents)"
   ],
   "id": "7e8d14fd1b4adbb3",
   "outputs": [
    {
     "data": {
      "text/plain": [
       "<minsearch.minsearch.Index at 0x131e61690>"
      ]
     },
     "execution_count": 28,
     "metadata": {},
     "output_type": "execute_result"
    }
   ],
   "execution_count": 28
  },
  {
   "metadata": {
    "ExecuteTime": {
     "end_time": "2025-06-16T17:54:33.260834Z",
     "start_time": "2025-06-16T17:54:33.257715Z"
    }
   },
   "cell_type": "code",
   "source": [
    "def search(query):\n",
    "    boost = {'question': 3.0, 'section': 0.5}\n",
    "\n",
    "    results = index.search(\n",
    "        query=query,\n",
    "        filter_dict={'course': 'machine-learning-zoomcamp'},\n",
    "        boost_dict=boost,\n",
    "        num_results=5\n",
    "    )\n",
    "\n",
    "    return results"
   ],
   "id": "16899a8dc66651b1",
   "outputs": [],
   "execution_count": 29
  },
  {
   "metadata": {
    "ExecuteTime": {
     "end_time": "2025-06-16T17:54:34.279414Z",
     "start_time": "2025-06-16T17:54:34.276812Z"
    }
   },
   "cell_type": "code",
   "source": "question_data = 'the course has already started, can I still enroll?'",
   "id": "c800dc93477c6263",
   "outputs": [],
   "execution_count": 30
  },
  {
   "metadata": {
    "ExecuteTime": {
     "end_time": "2025-06-16T17:54:35.013535Z",
     "start_time": "2025-06-16T17:54:35.005122Z"
    }
   },
   "cell_type": "code",
   "source": [
    "results = search(question_data)\n",
    "results[0]['text']"
   ],
   "id": "ea8657e8a175c8",
   "outputs": [
    {
     "data": {
      "text/plain": [
       "'Yes, you can. You won’t be able to submit some of the homeworks, but you can still take part in the course.\\nIn order to get a certificate, you need to submit 2 out of 3 course projects and review 3 peers’ Projects by the deadline. It means that if you join the course at the end of November and manage to work on two projects, you will still be eligible for a certificate.'"
      ]
     },
     "execution_count": 31,
     "metadata": {},
     "output_type": "execute_result"
    }
   ],
   "execution_count": 31
  },
  {
   "metadata": {},
   "cell_type": "markdown",
   "source": "## Working with OpenAI API",
   "id": "b2402630b0dd617a"
  },
  {
   "metadata": {
    "ExecuteTime": {
     "end_time": "2025-06-16T17:54:36.911055Z",
     "start_time": "2025-06-16T17:54:36.653516Z"
    }
   },
   "cell_type": "code",
   "source": [
    "import os\n",
    "\n",
    "from dotenv import load_dotenv\n",
    "from openai import OpenAI\n",
    "\n",
    "load_dotenv()\n",
    "\n",
    "OPENROUTER_API_KEY = os.getenv(\"OPENROUTER_API_KEY\")\n",
    "OPENROUTER_ENDPOINT = os.getenv(\"OPENROUTER_ENDPOINT\")\n",
    "OPENROUTER_MODEL = os.getenv(\"OPENROUTER_MODEL\")\n",
    "\n",
    "client = OpenAI(\n",
    "  base_url=OPENROUTER_ENDPOINT,\n",
    "  api_key=OPENROUTER_API_KEY,\n",
    ")"
   ],
   "id": "b1592198779af377",
   "outputs": [],
   "execution_count": 32
  },
  {
   "metadata": {
    "ExecuteTime": {
     "end_time": "2025-06-16T17:54:38.623168Z",
     "start_time": "2025-06-16T17:54:38.617981Z"
    }
   },
   "cell_type": "code",
   "source": [
    "def replace_placeholders(template_path, context_content, question_content):\n",
    "    try:\n",
    "        with open(template_path, \"r\") as f:\n",
    "            prompt = f.read()\n",
    "\n",
    "        prompt = prompt.replace(\"{{CONTEXT}}\", context_content)\n",
    "        prompt = prompt.replace(\"{{QUESTION}}\", question_content)\n",
    "\n",
    "        return prompt\n",
    "    except FileNotFoundError:\n",
    "        print(f\"Error: Template file not found at {template_path}\")\n",
    "        return None\n",
    "    except Exception as e:\n",
    "        print(f\"An error occurred: {e}\")\n",
    "        return None\n",
    "\n",
    "\n",
    "def prepare_prompt(question):\n",
    "    context_data = \"\"\n",
    "    results = search(question)\n",
    "    if not results:\n",
    "        return None\n",
    "\n",
    "    for doc in results:\n",
    "        context_data = context_data + f\"section: {doc['section']}\\nquestion: {doc['question']}\\nanswer: {doc['text']}\\n\\n\"\n",
    "\n",
    "    prompt = replace_placeholders(\"prompt_assistant.txt\", context_data, question)\n",
    "\n",
    "    return prompt\n",
    "\n",
    "def rag(question):\n",
    "    prompt = prepare_prompt(question)\n",
    "    if not prompt:\n",
    "        print(\"Unable to find information about the question.\")\n",
    "\n",
    "    response = client.chat.completions.create(\n",
    "        model=OPENROUTER_MODEL,\n",
    "        messages=[\n",
    "            {\"role\": \"user\", \"content\": prompt}]\n",
    "    )\n",
    "    return response.choices[0].message.content"
   ],
   "id": "4285045d2a521e2d",
   "outputs": [],
   "execution_count": 33
  },
  {
   "metadata": {
    "ExecuteTime": {
     "end_time": "2025-06-16T17:54:44.902416Z",
     "start_time": "2025-06-16T17:54:41.128268Z"
    }
   },
   "cell_type": "code",
   "source": [
    "question_data = 'How do I get started with Week 2'\n",
    "answer = rag(question_data)\n",
    "print(answer)"
   ],
   "id": "bdc851d39594ee95",
   "outputs": [
    {
     "name": "stdout",
     "output_type": "stream",
     "text": [
      "<answer>\n",
      "Hello there!\n",
      "\n",
      "To get started with Week 2, which began on September 18, 2023, here are some crucial links:\n",
      "\n",
      "*   **Ask questions for Live Sessions:** https://app.sli.do/event/vsUpjYsayZ8A875Hq8dpUa/live/questions\n",
      "*   **Calendar for weekly meetings:** https://calendar.google.com/calendar/u/0/r?cid=cGtjZ2tkbGc1OG9yb2lxa2Vwc2g4YXMzMmNAZ3JvdXAuY2FsZW5kYXIuZm9vZ2xlLmNvbQ&pli=1\n",
      "*   **Week 2 Homework:** https://github.com/DataTalksClub/machine-learning-zoomcamp/blob/master/cohorts/2023/02-regression/homework.md\n",
      "*   **Submit HW Week 2:** https://docs.google.com/forms/d/e/1FAIpQLSf8eMtnErPFqzzFsEdLap_GZ2sMih-H-Y7F_IuPGqt4fOmOJw/viewform (This link is also available at the bottom of the Week 2 HW link)\n",
      "*   **All Homeworks:** https://github.com/DataTalksClub/machine-learning-zoomcamp/blob/master/cohorts/2023/\n",
      "*   **GitHub for theory:** https://github.com/alexeygrigorev/mlbookcamp-code/tree/master/course-zoomcamp\n",
      "*   **YouTube Link (2.X):** https://www.youtube.com/watch?v=vM3SqPNlStE&list=PL3MmuxUbc_hIhxl5Ji8t4O6lPAOpHaCLR&index=12\n",
      "*   **FAQs:** https://docs.google.com/document/d/1LpPanc33QJJ6BSsyxVg-pWNMplal84TdZtq10naIhD8/edit#heading=h.lpz96zg7l47j\n",
      "\n",
      "I hope this helps you get started with Week 2!\n",
      "\n",
      "Best regards,\n",
      "Your Teaching Assistant\n",
      "</answer>\n"
     ]
    }
   ],
   "execution_count": 34
  },
  {
   "metadata": {},
   "cell_type": "markdown",
   "source": "## Q1. Running Elastic",
   "id": "2bf85e9883154c27"
  },
  {
   "metadata": {
    "ExecuteTime": {
     "end_time": "2025-06-16T17:55:38.509341Z",
     "start_time": "2025-06-16T17:55:38.505757Z"
    }
   },
   "cell_type": "code",
   "source": [
    "from elasticsearch import Elasticsearch\n",
    "from tqdm.auto import tqdm\n",
    "\n",
    "es_client = Elasticsearch(\"http://localhost:9200\")"
   ],
   "id": "3da52f9bf9b2d933",
   "outputs": [],
   "execution_count": 43
  },
  {
   "metadata": {
    "ExecuteTime": {
     "end_time": "2025-06-16T17:55:39.416208Z",
     "start_time": "2025-06-16T17:55:39.413509Z"
    }
   },
   "cell_type": "code",
   "source": [
    "index_settings = {\n",
    "    \"settings\": {\n",
    "        \"number_of_shards\": 1,\n",
    "        \"number_of_replicas\": 0\n",
    "    },\n",
    "    \"mappings\": {\n",
    "        \"properties\": {\n",
    "            \"text\": {\"type\": \"text\"},\n",
    "            \"section\": {\"type\": \"text\"},\n",
    "            \"question\": {\"type\": \"text\"},\n",
    "            \"course\": {\"type\": \"keyword\"}\n",
    "        }\n",
    "    }\n",
    "}\n",
    "\n",
    "index_name = \"course-questions\""
   ],
   "id": "dd731a8627f7c1a3",
   "outputs": [],
   "execution_count": 44
  },
  {
   "metadata": {
    "ExecuteTime": {
     "end_time": "2025-06-16T17:55:44.409855Z",
     "start_time": "2025-06-16T17:55:42.537849Z"
    }
   },
   "cell_type": "code",
   "source": [
    "# es_client.indices.create(index=index_name, body=index_settings)\n",
    "for doc in tqdm(documents):\n",
    "    # Q2 Which function do you use for adding your data to elastic?\n",
    "    es_client.index(index=index_name, document=doc)"
   ],
   "id": "753daf19e7bc8487",
   "outputs": [
    {
     "name": "stderr",
     "output_type": "stream",
     "text": [
      "100%|██████████| 948/948 [00:01<00:00, 556.04it/s]\n"
     ]
    }
   ],
   "execution_count": 45
  },
  {
   "metadata": {
    "ExecuteTime": {
     "end_time": "2025-06-16T17:55:48.175232Z",
     "start_time": "2025-06-16T17:55:48.171376Z"
    }
   },
   "cell_type": "code",
   "source": [
    "def elastic_search(query):\n",
    "    search_query = {\n",
    "        \"size\": 5,\n",
    "        \"query\": {\n",
    "            \"bool\": {\n",
    "                \"must\": {\n",
    "                    \"multi_match\": {\n",
    "                        \"query\": query,\n",
    "                        \"fields\": [\"question^3\", \"text\", \"section\"],\n",
    "                        \"type\": \"best_fields\"\n",
    "                    }\n",
    "                },\n",
    "                \"filter\": {\n",
    "                    \"term\": {\n",
    "                        \"course\": \"data-engineering-zoomcamp\"\n",
    "                    }\n",
    "                }\n",
    "            }\n",
    "        }\n",
    "    }\n",
    "\n",
    "    response = es_client.search(index=index_name, body=search_query)\n",
    "    result_docs = []\n",
    "\n",
    "    for hit in response['hits']['hits']:\n",
    "        result_docs.append(hit['_source'])\n",
    "\n",
    "    return result_docs\n",
    "\n",
    "\n",
    "query = 'I just disovered the course. Can I still join it?'"
   ],
   "id": "cef28f3033a6c577",
   "outputs": [],
   "execution_count": 46
  },
  {
   "metadata": {
    "ExecuteTime": {
     "end_time": "2025-06-16T17:55:49.077140Z",
     "start_time": "2025-06-16T17:55:49.073490Z"
    }
   },
   "cell_type": "code",
   "source": [
    "def prepare_prompt(question):\n",
    "    context_data = \"\"\n",
    "    results = elastic_search(question)\n",
    "    if not results:\n",
    "        return None\n",
    "    for doc in results:\n",
    "        context_data = context_data + f\"section: {doc['section']}\\nquestion: {doc['question']}\\nanswer: {doc['text']}\\n\\n\"\n",
    "\n",
    "    prompt = replace_placeholders(\"prompt_assistant.txt\", context_data, question)\n",
    "\n",
    "    return prompt\n",
    "\n",
    "\n",
    "def rag(question):\n",
    "    prompt = prepare_prompt(question)\n",
    "    if not prompt:\n",
    "        print(\"Unable to find information about the question.\")\n",
    "\n",
    "    response = client.chat.completions.create(\n",
    "        model=OPENROUTER_MODEL,\n",
    "        messages=[\n",
    "            {\"role\": \"user\", \"content\": prompt}]\n",
    "    )\n",
    "    return response.choices[0].message.content"
   ],
   "id": "bbf30e88627fb4f2",
   "outputs": [],
   "execution_count": 47
  },
  {
   "metadata": {
    "ExecuteTime": {
     "end_time": "2025-06-16T17:55:54.074098Z",
     "start_time": "2025-06-16T17:55:49.988066Z"
    }
   },
   "cell_type": "code",
   "source": [
    "question_data = 'The course has already started, can I still enroll?'\n",
    "answer = rag(question_data)\n",
    "print(answer)"
   ],
   "id": "1f702a11f5b31146",
   "outputs": [
    {
     "name": "stdout",
     "output_type": "stream",
     "text": [
      "<answer>\n",
      "Hi there!\n",
      "\n",
      "Yes, you can still join the course even after it has started. You are eligible to submit homeworks even if you don't officially register. However, please be aware that there will be deadlines for turning in the final projects, so it's a good idea not to leave everything until the last minute.\n",
      "\n",
      "Hope this helps! Let us know if you have any other questions.\n",
      "</answer>\n"
     ]
    }
   ],
   "execution_count": 48
  },
  {
   "metadata": {},
   "cell_type": "markdown",
   "source": "## Q3. Searching",
   "id": "1e2bdead556afa8b"
  },
  {
   "metadata": {
    "ExecuteTime": {
     "end_time": "2025-06-16T17:55:55.695711Z",
     "start_time": "2025-06-16T17:55:55.674318Z"
    }
   },
   "cell_type": "code",
   "source": [
    "question_data = 'How do execute a command on a Kubernetes pod?'\n",
    "\n",
    "search_query = {\n",
    "    \"size\": 5,\n",
    "    \"query\": {\n",
    "        \"bool\": {\n",
    "            \"must\": {\n",
    "                \"multi_match\": {\n",
    "                    \"query\": question_data,\n",
    "                    \"fields\": [\"question^4\", \"text\"],\n",
    "                    \"type\": \"best_fields\"\n",
    "                }\n",
    "            }\n",
    "        }\n",
    "    }\n",
    "}\n",
    "\n",
    "response = es_client.search(index=index_name, body=search_query)\n",
    "\n",
    "print(response['hits']['hits'][0]['_score'])"
   ],
   "id": "665cc697d6977068",
   "outputs": [
    {
     "name": "stdout",
     "output_type": "stream",
     "text": [
      "44.50556\n"
     ]
    }
   ],
   "execution_count": 49
  },
  {
   "metadata": {
    "ExecuteTime": {
     "end_time": "2025-06-16T17:55:57.814558Z",
     "start_time": "2025-06-16T17:55:57.795595Z"
    }
   },
   "cell_type": "code",
   "source": [
    "question_data = 'How do copy a file to a Docker container?'\n",
    "\n",
    "search_query = {\n",
    "    \"size\": 3,\n",
    "    \"query\": {\n",
    "        \"bool\": {\n",
    "            \"must\": {\n",
    "                \"multi_match\": {\n",
    "                    \"query\": question_data,\n",
    "                    \"fields\": [\"question^4\", \"text\"],\n",
    "                    \"type\": \"best_fields\"\n",
    "                }\n",
    "            },\n",
    "            \"filter\": {\n",
    "                \"term\": {\n",
    "                    \"course\": \"machine-learning-zoomcamp\"\n",
    "                }\n",
    "            }\n",
    "        }\n",
    "    }\n",
    "}\n",
    "\n",
    "response = es_client.search(index=index_name, body=search_query)\n",
    "\n",
    "print(response['hits']['hits'][-1]['_source']['question'])"
   ],
   "id": "2873b3264f803cdf",
   "outputs": [
    {
     "name": "stdout",
     "output_type": "stream",
     "text": [
      "How do I copy files from a different folder into docker container’s working directory?\n"
     ]
    }
   ],
   "execution_count": 50
  },
  {
   "metadata": {},
   "cell_type": "markdown",
   "source": "## Q5. Building a prompt",
   "id": "4ef459c6c5058972"
  },
  {
   "metadata": {
    "ExecuteTime": {
     "end_time": "2025-06-16T17:56:26.395870Z",
     "start_time": "2025-06-16T17:56:26.390231Z"
    }
   },
   "cell_type": "code",
   "source": [
    "query = 'How do copy a file to a Docker container?'\n",
    "\n",
    "context_template = \"\"\"\n",
    "Q: {question}\n",
    "A: {text}\n",
    "\"\"\".strip()\n",
    "\n",
    "\n",
    "prompt_template = \"\"\"\n",
    "You're a course teaching assistant. Answer the QUESTION based on the CONTEXT from the FAQ database.\n",
    "Use only the facts from the CONTEXT when answering the QUESTION.\n",
    "\n",
    "QUESTION: {question}\n",
    "\n",
    "CONTEXT:\n",
    "{context}\n",
    "\"\"\".strip()\n",
    "\n",
    "context = \"\"\n",
    "for hit in response[\"hits\"][\"hits\"]:\n",
    "    hit = hit[\"_source\"]\n",
    "    context += context_template.format(question=hit['question'],\n",
    "                                      text=hit['text']) + \"\\n\\n\"\n",
    "prompt = prompt_template.format(question=query, context=context)\n",
    "len(prompt.strip())"
   ],
   "id": "c1e4192d4a8471e9",
   "outputs": [
    {
     "data": {
      "text/plain": [
       "1446"
      ]
     },
     "execution_count": 51,
     "metadata": {},
     "output_type": "execute_result"
    }
   ],
   "execution_count": 51
  },
  {
   "metadata": {},
   "cell_type": "markdown",
   "source": "## Q6. Tokens",
   "id": "9e881a1d0862856"
  },
  {
   "metadata": {
    "ExecuteTime": {
     "end_time": "2025-06-16T18:06:03.555882Z",
     "start_time": "2025-06-16T18:06:03.552089Z"
    }
   },
   "cell_type": "code",
   "source": [
    "import tiktoken\n",
    "\n",
    "def count_tokens(text, model=\"gpt-4o\"):\n",
    "  encoding = tiktoken.encoding_for_model(model)\n",
    "  tokens = encoding.encode(text)\n",
    "  return len(tokens)\n",
    "\n",
    "count_tokens(prompt)"
   ],
   "id": "cdaa15cc4b8223b",
   "outputs": [
    {
     "data": {
      "text/plain": [
       "321"
      ]
     },
     "execution_count": 57,
     "metadata": {},
     "output_type": "execute_result"
    }
   ],
   "execution_count": 57
  },
  {
   "metadata": {},
   "cell_type": "markdown",
   "source": "## Bonus: generating the answer (ungraded)",
   "id": "498feada6ae59d68"
  },
  {
   "metadata": {
    "ExecuteTime": {
     "end_time": "2025-06-16T18:07:05.044542Z",
     "start_time": "2025-06-16T18:07:03.160283Z"
    }
   },
   "cell_type": "code",
   "source": [
    "prompt_reuse = prompt\n",
    "\n",
    "completion = client.chat.completions.create(\n",
    "    model=OPENROUTER_MODEL,\n",
    "    messages=[\n",
    "        {\n",
    "          \"role\": \"user\",\n",
    "          \"content\": [\n",
    "            {\n",
    "              \"type\": \"text\",\n",
    "              \"text\": prompt_reuse\n",
    "            }\n",
    "          ]\n",
    "        }\n",
    "      ]\n",
    ")\n",
    "\n",
    "content_reuse = completion.choices[0].message.content\n",
    "print(content_reuse)"
   ],
   "id": "6caebd681164e01d",
   "outputs": [
    {
     "name": "stdout",
     "output_type": "stream",
     "text": [
      "You can copy a file to a Docker container using the `docker cp` command. The basic syntax is:\n",
      "\n",
      "`docker cp /path/to/local/file_or_directory container_id:/path/in/container`\n"
     ]
    }
   ],
   "execution_count": 58
  },
  {
   "metadata": {},
   "cell_type": "markdown",
   "source": "## Bonus: calculating the costs (ungraded)",
   "id": "92036d5c9518e098"
  },
  {
   "metadata": {
    "ExecuteTime": {
     "end_time": "2025-06-16T18:07:56.972041Z",
     "start_time": "2025-06-16T18:07:56.967753Z"
    }
   },
   "cell_type": "code",
   "source": [
    "GPT4O_INPUT_PRICE_PER_K_TOKENS = 0.005\n",
    "GPT4O_OUTPUT_PRICE_PER_K_TOKENS = 0.015\n",
    "MODEL_NAME = \"gpt-4o\"\n",
    "\n",
    "\n",
    "def calculate_cost(input_tokens, output_tokens, input_price_per_k_tokens, output_price_per_k_tokens):\n",
    "  input_cost = (input_tokens / 1000) * input_price_per_k_tokens\n",
    "  output_cost = (output_tokens / 1000) * output_price_per_k_tokens\n",
    "  total_cost = input_cost + output_cost\n",
    "  return {\n",
    "      \"input_cost\": input_cost,\n",
    "      \"output_cost\": output_cost,\n",
    "      \"total_cost\": total_cost\n",
    "  }\n",
    "\n",
    "input_tokens = count_tokens(prompt_reuse, MODEL_NAME)\n",
    "output_tokens = count_tokens(content_reuse, MODEL_NAME)\n",
    "\n",
    "single_request_cost = calculate_cost(\n",
    "    input_tokens,\n",
    "    output_tokens,\n",
    "    GPT4O_INPUT_PRICE_PER_K_TOKENS,\n",
    "    GPT4O_OUTPUT_PRICE_PER_K_TOKENS\n",
    ")\n",
    "\n",
    "print(\"Cost of a single request:\")\n",
    "print(f\"  Input tokens: {input_tokens}\")\n",
    "print(f\"  Output tokens: {output_tokens}\")\n",
    "print(f\"  Input cost: ${single_request_cost['input_cost']:.6f}\")\n",
    "print(f\"  Output cost: ${single_request_cost['output_cost']:.6f}\")\n",
    "print(f\"  Total cost: ${single_request_cost['total_cost']:.6f}\")\n",
    "\n",
    "# Calculate the cost for 1000 requests\n",
    "num_requests = 1000\n",
    "cost_for_1000_requests = {\n",
    "    \"input_cost\": single_request_cost['input_cost'] * num_requests,\n",
    "    \"output_cost\": single_request_cost['output_cost'] * num_requests,\n",
    "    \"total_cost\": single_request_cost['total_cost'] * num_requests\n",
    "}\n",
    "\n",
    "print(f\"\\nCost for {num_requests} requests:\")\n",
    "print(f\"  Input cost: ${cost_for_1000_requests['input_cost']:.6f}\")\n",
    "print(f\"  Output cost: ${cost_for_1000_requests['output_cost']:.6f}\")\n",
    "print(f\"  Total cost: ${cost_for_1000_requests['total_cost']:.6f}\")\n"
   ],
   "id": "9c8116c482b3039b",
   "outputs": [
    {
     "name": "stdout",
     "output_type": "stream",
     "text": [
      "Cost of a single request:\n",
      "  Input tokens: 321\n",
      "  Output tokens: 39\n",
      "  Input cost: $0.001605\n",
      "  Output cost: $0.000585\n",
      "  Total cost: $0.002190\n",
      "\n",
      "Cost for 1000 requests:\n",
      "  Input cost: $1.605000\n",
      "  Output cost: $0.585000\n",
      "  Total cost: $2.190000\n"
     ]
    }
   ],
   "execution_count": 59
  }
 ],
 "metadata": {
  "kernelspec": {
   "display_name": "Python 3",
   "language": "python",
   "name": "python3"
  },
  "language_info": {
   "codemirror_mode": {
    "name": "ipython",
    "version": 2
   },
   "file_extension": ".py",
   "mimetype": "text/x-python",
   "name": "python",
   "nbconvert_exporter": "python",
   "pygments_lexer": "ipython2",
   "version": "2.7.6"
  }
 },
 "nbformat": 4,
 "nbformat_minor": 5
}
