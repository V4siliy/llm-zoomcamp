{
 "cells": [
  {
   "metadata": {},
   "cell_type": "markdown",
   "source": [
    "# Homework: Search Evaluation\n",
    "\n",
    "We will use minsearch and Qdrant. Make sure you have the most up-to-date versions.\n",
    "\n",
    "> minsearch should be at least 0.0.4"
   ],
   "id": "d54ee61d480dd2f3"
  },
  {
   "cell_type": "code",
   "id": "initial_id",
   "metadata": {
    "collapsed": true,
    "ExecuteTime": {
     "end_time": "2025-07-21T20:59:34.904814Z",
     "start_time": "2025-07-21T20:59:34.902589Z"
    }
   },
   "source": [
    "from minsearch import Index\n",
    "from minsearch import VectorSearch\n",
    "import pandas as pd\n",
    "import requests\n",
    "from sklearn.feature_extraction.text import TfidfVectorizer\n",
    "from sklearn.decomposition import TruncatedSVD\n",
    "from sklearn.pipeline import make_pipeline\n",
    "from tqdm.auto import tqdm"
   ],
   "outputs": [],
   "execution_count": 115
  },
  {
   "metadata": {
    "ExecuteTime": {
     "end_time": "2025-07-21T21:13:52.681030Z",
     "start_time": "2025-07-21T21:13:51.968357Z"
    }
   },
   "cell_type": "code",
   "source": [
    "url_prefix = 'https://raw.githubusercontent.com/DataTalksClub/llm-zoomcamp/main/03-evaluation/'\n",
    "docs_url = url_prefix + 'search_evaluation/documents-with-ids.json'\n",
    "documents = requests.get(docs_url).json()\n",
    "\n",
    "ground_truth_url = url_prefix + 'search_evaluation/ground-truth-data.csv'\n",
    "df_ground_truth = pd.read_csv(ground_truth_url)\n",
    "ground_truth = df_ground_truth.to_dict(orient='records')"
   ],
   "id": "b32d98509108c256",
   "outputs": [],
   "execution_count": 140
  },
  {
   "metadata": {
    "ExecuteTime": {
     "end_time": "2025-07-21T21:13:53.182347Z",
     "start_time": "2025-07-21T21:13:53.177706Z"
    }
   },
   "cell_type": "code",
   "source": [
    "def hit_rate(relevance_total):\n",
    "    cnt = 0\n",
    "\n",
    "    for line in relevance_total:\n",
    "        if True in line:\n",
    "            cnt = cnt + 1\n",
    "\n",
    "    return cnt / len(relevance_total)\n",
    "\n",
    "def mrr(relevance_total):\n",
    "    total_score = 0.0\n",
    "\n",
    "    for line in relevance_total:\n",
    "        for rank in range(len(line)):\n",
    "            if line[rank] == True:\n",
    "                total_score = total_score + 1 / (rank + 1)\n",
    "\n",
    "    return total_score / len(relevance_total)\n",
    "\n",
    "def evaluate(ground_truth, search_function):\n",
    "    relevance_total = []\n",
    "\n",
    "    for q in tqdm(ground_truth):\n",
    "        doc_id = q['document']\n",
    "        results = search_function(q)\n",
    "        relevance = [d['id'] == doc_id for d in results]\n",
    "        relevance_total.append(relevance)\n",
    "\n",
    "    return {\n",
    "        'hit_rate': hit_rate(relevance_total),\n",
    "        'mrr': mrr(relevance_total),\n",
    "    }"
   ],
   "id": "afc773c262116919",
   "outputs": [],
   "execution_count": 141
  },
  {
   "metadata": {},
   "cell_type": "markdown",
   "source": [
    "## Q1. Minsearch text\n",
    "\n",
    "Now let's evaluate our usual minsearch approach, but tweak the parameters. Let's use the following boosting params:"
   ],
   "id": "b7314b4e7be9b1ba"
  },
  {
   "metadata": {
    "ExecuteTime": {
     "end_time": "2025-07-21T21:13:56.553478Z",
     "start_time": "2025-07-21T21:13:56.549528Z"
    }
   },
   "cell_type": "code",
   "source": "df_ground_truth[:3]",
   "id": "8ebf80a34798e0ad",
   "outputs": [
    {
     "data": {
      "text/plain": [
       "                                    question                     course  \\\n",
       "0                When does the course begin?  data-engineering-zoomcamp   \n",
       "1         How can I get the course schedule?  data-engineering-zoomcamp   \n",
       "2  What is the link for course registration?  data-engineering-zoomcamp   \n",
       "\n",
       "   document  \n",
       "0  c02e79ef  \n",
       "1  c02e79ef  \n",
       "2  c02e79ef  "
      ],
      "text/html": [
       "<div>\n",
       "<style scoped>\n",
       "    .dataframe tbody tr th:only-of-type {\n",
       "        vertical-align: middle;\n",
       "    }\n",
       "\n",
       "    .dataframe tbody tr th {\n",
       "        vertical-align: top;\n",
       "    }\n",
       "\n",
       "    .dataframe thead th {\n",
       "        text-align: right;\n",
       "    }\n",
       "</style>\n",
       "<table border=\"1\" class=\"dataframe\">\n",
       "  <thead>\n",
       "    <tr style=\"text-align: right;\">\n",
       "      <th></th>\n",
       "      <th>question</th>\n",
       "      <th>course</th>\n",
       "      <th>document</th>\n",
       "    </tr>\n",
       "  </thead>\n",
       "  <tbody>\n",
       "    <tr>\n",
       "      <th>0</th>\n",
       "      <td>When does the course begin?</td>\n",
       "      <td>data-engineering-zoomcamp</td>\n",
       "      <td>c02e79ef</td>\n",
       "    </tr>\n",
       "    <tr>\n",
       "      <th>1</th>\n",
       "      <td>How can I get the course schedule?</td>\n",
       "      <td>data-engineering-zoomcamp</td>\n",
       "      <td>c02e79ef</td>\n",
       "    </tr>\n",
       "    <tr>\n",
       "      <th>2</th>\n",
       "      <td>What is the link for course registration?</td>\n",
       "      <td>data-engineering-zoomcamp</td>\n",
       "      <td>c02e79ef</td>\n",
       "    </tr>\n",
       "  </tbody>\n",
       "</table>\n",
       "</div>"
      ]
     },
     "execution_count": 142,
     "metadata": {},
     "output_type": "execute_result"
    }
   ],
   "execution_count": 142
  },
  {
   "metadata": {
    "ExecuteTime": {
     "end_time": "2025-07-21T21:13:57.525934Z",
     "start_time": "2025-07-21T21:13:57.522675Z"
    }
   },
   "cell_type": "code",
   "source": "ground_truth[:3]",
   "id": "fdc1ccd2e7d65c60",
   "outputs": [
    {
     "data": {
      "text/plain": [
       "[{'question': 'When does the course begin?',\n",
       "  'course': 'data-engineering-zoomcamp',\n",
       "  'document': 'c02e79ef'},\n",
       " {'question': 'How can I get the course schedule?',\n",
       "  'course': 'data-engineering-zoomcamp',\n",
       "  'document': 'c02e79ef'},\n",
       " {'question': 'What is the link for course registration?',\n",
       "  'course': 'data-engineering-zoomcamp',\n",
       "  'document': 'c02e79ef'}]"
      ]
     },
     "execution_count": 143,
     "metadata": {},
     "output_type": "execute_result"
    }
   ],
   "execution_count": 143
  },
  {
   "metadata": {
    "ExecuteTime": {
     "end_time": "2025-07-21T21:13:58.853322Z",
     "start_time": "2025-07-21T21:13:58.849787Z"
    }
   },
   "cell_type": "code",
   "source": "documents[:3]",
   "id": "9d7f2505711b107a",
   "outputs": [
    {
     "data": {
      "text/plain": [
       "[{'text': \"The purpose of this document is to capture frequently asked technical questions\\nThe exact day and hour of the course will be 15th Jan 2024 at 17h00. The course will start with the first  “Office Hours'' live.1\\nSubscribe to course public Google Calendar (it works from Desktop only).\\nRegister before the course starts using this link.\\nJoin the course Telegram channel with announcements.\\nDon’t forget to register in DataTalks.Club's Slack and join the channel.\",\n",
       "  'section': 'General course-related questions',\n",
       "  'question': 'Course - When will the course start?',\n",
       "  'course': 'data-engineering-zoomcamp',\n",
       "  'id': 'c02e79ef'},\n",
       " {'text': 'GitHub - DataTalksClub data-engineering-zoomcamp#prerequisites',\n",
       "  'section': 'General course-related questions',\n",
       "  'question': 'Course - What are the prerequisites for this course?',\n",
       "  'course': 'data-engineering-zoomcamp',\n",
       "  'id': '1f6520ca'},\n",
       " {'text': \"Yes, even if you don't register, you're still eligible to submit the homeworks.\\nBe aware, however, that there will be deadlines for turning in the final projects. So don't leave everything for the last minute.\",\n",
       "  'section': 'General course-related questions',\n",
       "  'question': 'Course - Can I still join the course after the start date?',\n",
       "  'course': 'data-engineering-zoomcamp',\n",
       "  'id': '7842b56a'}]"
      ]
     },
     "execution_count": 144,
     "metadata": {},
     "output_type": "execute_result"
    }
   ],
   "execution_count": 144
  },
  {
   "metadata": {},
   "cell_type": "markdown",
   "source": [
    "> text_fields=['question', 'text', 'section']\n",
    "These are the fields that minsearch.Index will use to build its TF-IDF representations.\n",
    "\n",
    "> keyword_fields=['course']\n",
    "Documents&ground_truth have a course field"
   ],
   "id": "dde84c4335098ee4"
  },
  {
   "metadata": {
    "ExecuteTime": {
     "end_time": "2025-07-21T21:14:05.051824Z",
     "start_time": "2025-07-21T21:14:04.940251Z"
    }
   },
   "cell_type": "code",
   "source": [
    "index = Index(\n",
    "    text_fields=['question', 'text', 'section'],\n",
    "    keyword_fields=['course'],\n",
    ")\n",
    "\n",
    "# Fit the index with your documents\n",
    "index.fit(documents)"
   ],
   "id": "60642f4c7ed9a735",
   "outputs": [
    {
     "data": {
      "text/plain": [
       "<minsearch.minsearch.Index at 0x12833b710>"
      ]
     },
     "execution_count": 145,
     "metadata": {},
     "output_type": "execute_result"
    }
   ],
   "execution_count": 145
  },
  {
   "metadata": {
    "ExecuteTime": {
     "end_time": "2025-07-21T21:14:05.556647Z",
     "start_time": "2025-07-21T21:14:05.553531Z"
    }
   },
   "cell_type": "code",
   "source": [
    "def minsearch_text_search(q):\n",
    "    boost = {'question': 1.5, 'section': 0.1}\n",
    "\n",
    "    _query = q['question']\n",
    "    _course = q['course']\n",
    "\n",
    "    results = index.search(\n",
    "        query=_query,\n",
    "        filter_dict={'course': _course},\n",
    "        boost_dict=boost,\n",
    "        num_results=5\n",
    "    )\n",
    "\n",
    "    return results"
   ],
   "id": "c1ad6289d5a74f75",
   "outputs": [],
   "execution_count": 146
  },
  {
   "metadata": {
    "ExecuteTime": {
     "end_time": "2025-07-21T21:14:10.790531Z",
     "start_time": "2025-07-21T21:14:06.013268Z"
    }
   },
   "cell_type": "code",
   "source": "metrics_q1 = evaluate(ground_truth, minsearch_text_search)",
   "id": "cb766ff886b686de",
   "outputs": [
    {
     "name": "stderr",
     "output_type": "stream",
     "text": [
      "100%|██████████| 4627/4627 [00:04<00:00, 969.27it/s]\n"
     ]
    }
   ],
   "execution_count": 147
  },
  {
   "metadata": {
    "ExecuteTime": {
     "end_time": "2025-07-21T21:14:11.745491Z",
     "start_time": "2025-07-21T21:14:11.742783Z"
    }
   },
   "cell_type": "code",
   "source": [
    "print(\"Q1 Minsearch Text Search Evaluation Metrics:\")\n",
    "print(f\"Hit Rate: {metrics_q1['hit_rate']:.4f}\")\n",
    "print(f\"MRR: {metrics_q1['mrr']:.4f}\")"
   ],
   "id": "f5e267a7b9c05e41",
   "outputs": [
    {
     "name": "stdout",
     "output_type": "stream",
     "text": [
      "Q1 Minsearch Text Search Evaluation Metrics:\n",
      "Hit Rate: 0.8487\n",
      "MRR: 0.7288\n"
     ]
    }
   ],
   "execution_count": 148
  },
  {
   "metadata": {},
   "cell_type": "markdown",
   "source": [
    "## Q2. Vector search for question\n",
    "\n",
    "Instead of using minsearch.Index, we'll be using minsearch.VectorSearch and the pipeline to get embeddings."
   ],
   "id": "8d811673a1a6e6d3"
  },
  {
   "metadata": {
    "ExecuteTime": {
     "end_time": "2025-07-21T21:17:05.726587Z",
     "start_time": "2025-07-21T21:17:05.688071Z"
    }
   },
   "cell_type": "code",
   "source": [
    "texts = []\n",
    "\n",
    "for doc in documents:\n",
    "    t = doc['question']\n",
    "    texts.append(t)\n",
    "\n",
    "pipeline = make_pipeline(\n",
    "    TfidfVectorizer(min_df=3),\n",
    "    TruncatedSVD(n_components=128)\n",
    ")\n",
    "X = pipeline.fit_transform(texts)"
   ],
   "id": "14022cd1b40563be",
   "outputs": [],
   "execution_count": 162
  },
  {
   "metadata": {},
   "cell_type": "markdown",
   "source": "Index embeddings with minsearch.VectorSearch",
   "id": "50a092f4c33ec526"
  },
  {
   "metadata": {
    "ExecuteTime": {
     "end_time": "2025-07-21T21:17:06.655559Z",
     "start_time": "2025-07-21T21:17:06.651030Z"
    }
   },
   "cell_type": "code",
   "source": [
    "vindex = VectorSearch(keyword_fields=['course'])\n",
    "vindex.fit(X, documents)"
   ],
   "id": "5a72762fd3e88a37",
   "outputs": [
    {
     "data": {
      "text/plain": [
       "<minsearch.vector.VectorSearch at 0x128336f10>"
      ]
     },
     "execution_count": 163,
     "metadata": {},
     "output_type": "execute_result"
    }
   ],
   "execution_count": 163
  },
  {
   "metadata": {
    "ExecuteTime": {
     "end_time": "2025-07-21T21:17:07.398441Z",
     "start_time": "2025-07-21T21:17:07.396180Z"
    }
   },
   "cell_type": "code",
   "source": [
    "def minsearch_vsearch(q):\n",
    "    _query = q['question']\n",
    "    _course = q['course']\n",
    "\n",
    "    query_embedding = pipeline.transform([_query])[0]\n",
    "\n",
    "    results = vindex.search(\n",
    "        query_vector=query_embedding,\n",
    "        filter_dict={'course': _course},\n",
    "        num_results=5,\n",
    "    )\n",
    "    return results"
   ],
   "id": "9691184a5169fd21",
   "outputs": [],
   "execution_count": 164
  },
  {
   "metadata": {
    "ExecuteTime": {
     "end_time": "2025-07-21T21:17:10.619316Z",
     "start_time": "2025-07-21T21:17:08.296508Z"
    }
   },
   "cell_type": "code",
   "source": "metrics_q2 = evaluate(ground_truth, minsearch_vsearch)",
   "id": "e783b448a97581ee",
   "outputs": [
    {
     "name": "stderr",
     "output_type": "stream",
     "text": [
      "100%|██████████| 4627/4627 [00:02<00:00, 1996.54it/s]\n"
     ]
    }
   ],
   "execution_count": 165
  },
  {
   "metadata": {
    "ExecuteTime": {
     "end_time": "2025-07-21T21:17:12.770138Z",
     "start_time": "2025-07-21T21:17:12.763698Z"
    }
   },
   "cell_type": "code",
   "source": [
    "print(\"Q2 Minsearch Vector Search Evaluation Metrics:\")\n",
    "print(f\"Hit Rate: {metrics_q2['hit_rate']:.4f}\")\n",
    "print(f\"MRR: {metrics_q2['mrr']:.4f}\")"
   ],
   "id": "b3a83e2eb1ad4619",
   "outputs": [
    {
     "name": "stdout",
     "output_type": "stream",
     "text": [
      "Q2 Minsearch Vector Search Evaluation Metrics:\n",
      "Hit Rate: 0.4815\n",
      "MRR: 0.3578\n"
     ]
    }
   ],
   "execution_count": 166
  },
  {
   "metadata": {},
   "cell_type": "markdown",
   "source": [
    "## Q3. Vector search for question and answer\n",
    "\n",
    "Create combined text for embeddings: \"question\" + \" \" + \"text\""
   ],
   "id": "e008749af18454c0"
  },
  {
   "metadata": {
    "ExecuteTime": {
     "end_time": "2025-07-21T21:17:15.909478Z",
     "start_time": "2025-07-21T21:17:15.799726Z"
    }
   },
   "cell_type": "code",
   "source": [
    "texts_combined = []\n",
    "\n",
    "for doc in documents:\n",
    "    t = doc['question'] + ' ' + doc['text']\n",
    "    texts_combined.append(t)\n",
    "\n",
    "pipeline_q3 = make_pipeline(\n",
    "    TfidfVectorizer(min_df=3),\n",
    "    TruncatedSVD(n_components=128)\n",
    ")\n",
    "X_combined = pipeline_q3.fit_transform(texts_combined)\n",
    "\n",
    "vindex_q3 = VectorSearch(keyword_fields=['course'])\n",
    "vindex_q3.fit(X_combined, documents)"
   ],
   "id": "b84f37a2992e9203",
   "outputs": [
    {
     "data": {
      "text/plain": [
       "<minsearch.vector.VectorSearch at 0x11fdb27d0>"
      ]
     },
     "execution_count": 167,
     "metadata": {},
     "output_type": "execute_result"
    }
   ],
   "execution_count": 167
  },
  {
   "metadata": {
    "ExecuteTime": {
     "end_time": "2025-07-21T21:17:16.403756Z",
     "start_time": "2025-07-21T21:17:16.401206Z"
    }
   },
   "cell_type": "code",
   "source": [
    "def minsearch_vector_search_q3(q):\n",
    "    _query = q['question']\n",
    "    _course = q['course']\n",
    "\n",
    "    query_embedding_q3 = pipeline_q3.transform([_query])[0]\n",
    "\n",
    "    search_results = vindex_q3.search(\n",
    "        query_vector=query_embedding_q3,\n",
    "        filter_dict={'course': _course},\n",
    "        num_results=5,\n",
    "    )\n",
    "    return search_results"
   ],
   "id": "1082cdf20a2a0e62",
   "outputs": [],
   "execution_count": 168
  },
  {
   "metadata": {
    "ExecuteTime": {
     "end_time": "2025-07-21T21:17:29.141637Z",
     "start_time": "2025-07-21T21:17:26.021377Z"
    }
   },
   "cell_type": "code",
   "source": "metrics_q3 = evaluate(ground_truth, minsearch_vector_search_q3)",
   "id": "56e20cce4d3e8c6d",
   "outputs": [
    {
     "name": "stderr",
     "output_type": "stream",
     "text": [
      "100%|██████████| 4627/4627 [00:03<00:00, 1485.64it/s]\n"
     ]
    }
   ],
   "execution_count": 170
  },
  {
   "metadata": {
    "ExecuteTime": {
     "end_time": "2025-07-21T21:17:30.457813Z",
     "start_time": "2025-07-21T21:17:30.454694Z"
    }
   },
   "cell_type": "code",
   "source": [
    "print(\"Q3 Minsearch Vector Search (Question + Text) Evaluation Metrics:\")\n",
    "print(f\"Hit Rate: {metrics_q3['hit_rate']:.4f}\")\n",
    "print(f\"MRR: {metrics_q3['mrr']:.4f}\")"
   ],
   "id": "79bb8cdc7c185de9",
   "outputs": [
    {
     "name": "stdout",
     "output_type": "stream",
     "text": [
      "Q3 Minsearch Vector Search (Question + Text) Evaluation Metrics:\n",
      "Hit Rate: 0.8223\n",
      "MRR: 0.6729\n"
     ]
    }
   ],
   "execution_count": 171
  },
  {
   "metadata": {},
   "cell_type": "code",
   "outputs": [],
   "execution_count": null,
   "source": "",
   "id": "24d1640cd9c4c29e"
  }
 ],
 "metadata": {
  "kernelspec": {
   "display_name": "Python 3",
   "language": "python",
   "name": "python3"
  },
  "language_info": {
   "codemirror_mode": {
    "name": "ipython",
    "version": 2
   },
   "file_extension": ".py",
   "mimetype": "text/x-python",
   "name": "python",
   "nbconvert_exporter": "python",
   "pygments_lexer": "ipython2",
   "version": "2.7.6"
  }
 },
 "nbformat": 4,
 "nbformat_minor": 5
}
